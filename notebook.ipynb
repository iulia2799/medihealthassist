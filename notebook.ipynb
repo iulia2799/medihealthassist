{
  "nbformat": 4,
  "nbformat_minor": 0,
  "metadata": {
    "colab": {
      "provenance": []
    },
    "kernelspec": {
      "name": "python3",
      "display_name": "Python 3"
    },
    "language_info": {
      "name": "python"
    }
  },
  "cells": [
    {
      "cell_type": "markdown",
      "source": [
        "# SymbiPredict Dataset\n"
      ],
      "metadata": {
        "id": "KP_uEczpF2H9"
      }
    },
    {
      "cell_type": "markdown",
      "source": [
        "### Attempt with a keras model\n",
        "Maybe i can deploy it to my firebase project"
      ],
      "metadata": {
        "id": "WG4QlQjGGOEK"
      }
    },
    {
      "cell_type": "code",
      "execution_count": 1,
      "metadata": {
        "id": "qzu75zExFzeA"
      },
      "outputs": [],
      "source": [
        "import sys\n",
        "import pandas as pd\n",
        "import numpy as np\n",
        "import sklearn\n",
        "import matplotlib\n",
        "import keras\n",
        "import matplotlib.pyplot as plt\n",
        "\n",
        "\n",
        "df = pd.read_csv(\"/content/symbipredict_2022_corrected.csv\")\n",
        "X = np.array(df.iloc[:, :-1])\n",
        "y = np.array(df['prognosis'])"
      ]
    },
    {
      "cell_type": "code",
      "source": [
        "\n",
        "for col in df.columns:\n",
        "  print(f\"\\\"{col}\\\",\")"
      ],
      "metadata": {
        "colab": {
          "base_uri": "https://localhost:8080/"
        },
        "id": "hebv1C5mSiQR",
        "outputId": "64a30f7c-6dea-465b-cf3d-a84cf56c3f4c"
      },
      "execution_count": null,
      "outputs": [
        {
          "output_type": "stream",
          "name": "stdout",
          "text": [
            "\"itching\",\n",
            "\"skin_rash\",\n",
            "\"nodal_skin_eruptions\",\n",
            "\"continuous_sneezing\",\n",
            "\"shivering\",\n",
            "\"chills\",\n",
            "\"joint_pain\",\n",
            "\"stomach_pain\",\n",
            "\"acidity\",\n",
            "\"ulcers_on_tongue\",\n",
            "\"muscle_wasting\",\n",
            "\"vomiting\",\n",
            "\"burning_micturition\",\n",
            "\"spotting_urination\",\n",
            "\"fatigue\",\n",
            "\"weight_gain\",\n",
            "\"anxiety\",\n",
            "\"cold_hands_and_feets\",\n",
            "\"mood_swings\",\n",
            "\"weight_loss\",\n",
            "\"restlessness\",\n",
            "\"lethargy\",\n",
            "\"patches_in_throat\",\n",
            "\"irregular_sugar_level\",\n",
            "\"cough\",\n",
            "\"high_fever\",\n",
            "\"sunken_eyes\",\n",
            "\"breathlessness\",\n",
            "\"sweating\",\n",
            "\"dehydration\",\n",
            "\"indigestion\",\n",
            "\"headache\",\n",
            "\"yellowish_skin\",\n",
            "\"dark_urine\",\n",
            "\"nausea\",\n",
            "\"loss_of_appetite\",\n",
            "\"pain_behind_the_eyes\",\n",
            "\"back_pain\",\n",
            "\"constipation\",\n",
            "\"abdominal_pain\",\n",
            "\"diarrhoea\",\n",
            "\"mild_fever\",\n",
            "\"yellow_urine\",\n",
            "\"yellowing_of_eyes\",\n",
            "\"acute_liver_failure\",\n",
            "\"fluid_overload\",\n",
            "\"swelling_of_stomach\",\n",
            "\"swelled_lymph_nodes\",\n",
            "\"malaise\",\n",
            "\"blurred_and_distorted_vision\",\n",
            "\"phlegm\",\n",
            "\"throat_irritation\",\n",
            "\"redness_of_eyes\",\n",
            "\"sinus_pressure\",\n",
            "\"runny_nose\",\n",
            "\"congestion\",\n",
            "\"chest_pain\",\n",
            "\"weakness_in_limbs\",\n",
            "\"fast_heart_rate\",\n",
            "\"pain_during_bowel_movements\",\n",
            "\"pain_in_anal_region\",\n",
            "\"bloody_stool\",\n",
            "\"irritation_in_anus\",\n",
            "\"neck_pain\",\n",
            "\"dizziness\",\n",
            "\"cramps\",\n",
            "\"bruising\",\n",
            "\"obesity\",\n",
            "\"swollen_legs\",\n",
            "\"swollen_blood_vessels\",\n",
            "\"puffy_face_and_eyes\",\n",
            "\"enlarged_thyroid\",\n",
            "\"brittle_nails\",\n",
            "\"swollen_extremeties\",\n",
            "\"excessive_hunger\",\n",
            "\"extra_marital_contacts\",\n",
            "\"drying_and_tingling_lips\",\n",
            "\"slurred_speech\",\n",
            "\"knee_pain\",\n",
            "\"hip_joint_pain\",\n",
            "\"muscle_weakness\",\n",
            "\"stiff_neck\",\n",
            "\"swelling_joints\",\n",
            "\"movement_stiffness\",\n",
            "\"spinning_movements\",\n",
            "\"loss_of_balance\",\n",
            "\"unsteadiness\",\n",
            "\"weakness_of_one_body_side\",\n",
            "\"loss_of_smell\",\n",
            "\"bladder_discomfort\",\n",
            "\"foul_smell_of_urine\",\n",
            "\"continuous_feel_of_urine\",\n",
            "\"passage_of_gases\",\n",
            "\"internal_itching\",\n",
            "\"toxic_look_(typhos)\",\n",
            "\"depression\",\n",
            "\"irritability\",\n",
            "\"muscle_pain\",\n",
            "\"altered_sensorium\",\n",
            "\"red_spots_over_body\",\n",
            "\"belly_pain\",\n",
            "\"abnormal_menstruation\",\n",
            "\"dischromic_patches\",\n",
            "\"watering_from_eyes\",\n",
            "\"increased_appetite\",\n",
            "\"polyuria\",\n",
            "\"family_history\",\n",
            "\"mucoid_sputum\",\n",
            "\"rusty_sputum\",\n",
            "\"lack_of_concentration\",\n",
            "\"visual_disturbances\",\n",
            "\"receiving_blood_transfusion\",\n",
            "\"receiving_unsterile_injections\",\n",
            "\"coma\",\n",
            "\"stomach_bleeding\",\n",
            "\"distention_of_abdomen\",\n",
            "\"history_of_alcohol_consumption\",\n",
            "\"fluid_overload.1\",\n",
            "\"blood_in_sputum\",\n",
            "\"prominent_veins_on_calf\",\n",
            "\"palpitations\",\n",
            "\"painful_walking\",\n",
            "\"pus_filled_pimples\",\n",
            "\"blackheads\",\n",
            "\"scurring\",\n",
            "\"skin_peeling\",\n",
            "\"silver_like_dusting\",\n",
            "\"small_dents_in_nails\",\n",
            "\"inflammatory_nails\",\n",
            "\"blister\",\n",
            "\"red_sore_around_nose\",\n",
            "\"yellow_crust_ooze\",\n",
            "\"prognosis\",\n"
          ]
        }
      ]
    },
    {
      "cell_type": "code",
      "source": [
        "from sklearn import model_selection\n",
        "\n",
        "X_train, X_test, y_train, y_test = model_selection.train_test_split(X, y, stratify=y, random_state=42, test_size = 0.2)"
      ],
      "metadata": {
        "id": "9gVMhLD5JgYY"
      },
      "execution_count": 2,
      "outputs": []
    },
    {
      "cell_type": "markdown",
      "source": [
        "### But first, let's encode the targets (diseases)"
      ],
      "metadata": {
        "id": "FdXiXvLQLWYr"
      }
    },
    {
      "cell_type": "code",
      "source": [
        "from sklearn.preprocessing import LabelEncoder\n",
        "\n",
        "le = LabelEncoder()\n",
        "y_train_encoded = le.fit_transform(y_train)\n",
        "y_test_encoded = le.fit_transform(y_test)"
      ],
      "metadata": {
        "id": "K_z8aTW5LVy9"
      },
      "execution_count": 3,
      "outputs": []
    },
    {
      "cell_type": "code",
      "source": [
        "# convert the data to categorical labels\n",
        "from tensorflow.keras.utils import to_categorical\n",
        "\n",
        "Y_train = to_categorical(y_train_encoded, num_classes=None)\n",
        "Y_test = to_categorical(y_test_encoded, num_classes=None)\n",
        "print (Y_train.shape)\n",
        "print (Y_train[:10])"
      ],
      "metadata": {
        "colab": {
          "base_uri": "https://localhost:8080/"
        },
        "id": "8LH6riwEKf7T",
        "outputId": "a703ea11-47b8-456d-d14d-d4d2f0b8d73b"
      },
      "execution_count": 4,
      "outputs": [
        {
          "output_type": "stream",
          "name": "stdout",
          "text": [
            "(3968, 41)\n",
            "[[0. 0. 0. 0. 0. 0. 0. 0. 0. 0. 0. 0. 0. 0. 0. 0. 0. 0. 0. 0. 0. 0. 0. 0.\n",
            "  0. 0. 0. 0. 0. 1. 0. 0. 0. 0. 0. 0. 0. 0. 0. 0. 0.]\n",
            " [0. 0. 0. 0. 0. 0. 0. 0. 0. 0. 0. 0. 0. 0. 0. 0. 0. 0. 0. 0. 0. 0. 0. 0.\n",
            "  0. 0. 1. 0. 0. 0. 0. 0. 0. 0. 0. 0. 0. 0. 0. 0. 0.]\n",
            " [0. 0. 0. 0. 0. 0. 0. 0. 0. 0. 0. 0. 0. 0. 0. 0. 0. 0. 0. 0. 0. 0. 0. 0.\n",
            "  0. 0. 0. 0. 1. 0. 0. 0. 0. 0. 0. 0. 0. 0. 0. 0. 0.]\n",
            " [0. 0. 0. 0. 0. 0. 0. 0. 0. 0. 0. 0. 0. 0. 0. 0. 0. 0. 0. 0. 0. 0. 0. 0.\n",
            "  0. 0. 0. 0. 0. 0. 0. 0. 1. 0. 0. 0. 0. 0. 0. 0. 0.]\n",
            " [0. 0. 0. 0. 0. 0. 0. 0. 0. 0. 1. 0. 0. 0. 0. 0. 0. 0. 0. 0. 0. 0. 0. 0.\n",
            "  0. 0. 0. 0. 0. 0. 0. 0. 0. 0. 0. 0. 0. 0. 0. 0. 0.]\n",
            " [0. 0. 0. 0. 0. 0. 0. 0. 0. 0. 0. 0. 0. 0. 0. 0. 0. 0. 0. 0. 0. 0. 0. 0.\n",
            "  0. 0. 0. 0. 0. 0. 0. 0. 1. 0. 0. 0. 0. 0. 0. 0. 0.]\n",
            " [0. 0. 0. 0. 0. 1. 0. 0. 0. 0. 0. 0. 0. 0. 0. 0. 0. 0. 0. 0. 0. 0. 0. 0.\n",
            "  0. 0. 0. 0. 0. 0. 0. 0. 0. 0. 0. 0. 0. 0. 0. 0. 0.]\n",
            " [0. 0. 0. 0. 0. 0. 0. 0. 0. 0. 0. 0. 0. 0. 0. 0. 0. 0. 0. 0. 0. 0. 0. 0.\n",
            "  0. 0. 0. 0. 0. 0. 0. 0. 0. 1. 0. 0. 0. 0. 0. 0. 0.]\n",
            " [0. 0. 0. 0. 0. 0. 0. 0. 0. 0. 0. 0. 0. 0. 0. 0. 0. 0. 1. 0. 0. 0. 0. 0.\n",
            "  0. 0. 0. 0. 0. 0. 0. 0. 0. 0. 0. 0. 0. 0. 0. 0. 0.]\n",
            " [0. 0. 0. 0. 0. 0. 0. 0. 0. 0. 0. 0. 0. 1. 0. 0. 0. 0. 0. 0. 0. 0. 0. 0.\n",
            "  0. 0. 0. 0. 0. 0. 0. 0. 0. 0. 0. 0. 0. 0. 0. 0. 0.]]\n"
          ]
        }
      ]
    },
    {
      "cell_type": "code",
      "source": [
        "print(X_train[0])"
      ],
      "metadata": {
        "colab": {
          "base_uri": "https://localhost:8080/"
        },
        "id": "5j51wVGULsL9",
        "outputId": "385dce3c-3edd-4736-a864-69c6b00ee44b"
      },
      "execution_count": null,
      "outputs": [
        {
          "output_type": "stream",
          "name": "stdout",
          "text": [
            "[0 0 0 0 0 1 0 0 0 0 0 1 0 0 0 0 0 0 0 0 0 0 0 0 0 1 0 0 1 0 0 1 0 0 1 0 0\n",
            " 0 0 0 1 0 0 0 0 0 0 0 0 0 0 0 0 0 0 0 0 0 0 0 0 0 0 0 0 0 0 0 0 0 0 0 0 0\n",
            " 0 0 0 0 0 0 0 0 0 0 0 0 0 0 0 0 0 0 0 0 0 0 0 1 0 0 0 0 0 0 0 0 0 0 0 0 0\n",
            " 0 0 0 0 0 0 0 0 0 0 0 0 0 0 0 0 0 0 0 0 0]\n"
          ]
        }
      ]
    },
    {
      "cell_type": "markdown",
      "source": [
        "### Create model"
      ],
      "metadata": {
        "id": "mG3lgy4BGZCy"
      }
    },
    {
      "cell_type": "code",
      "source": [
        "from keras.models import Sequential\n",
        "from keras.layers import Dense\n",
        "from keras.optimizers import Adam\n",
        "from keras.layers import Dropout\n",
        "from keras import regularizers\n",
        "\n",
        "# define a function to build the keras model\n",
        "def create_model():\n",
        "    # create model\n",
        "    model = Sequential()\n",
        "    model.add(Dense(32, kernel_initializer='normal', kernel_regularizer=regularizers.l2(0.01), activation='relu'))\n",
        "    model.add(Dropout(0.5))\n",
        "    model.add(Dense(41, activation='softmax'))\n",
        "\n",
        "    # compile model\n",
        "    adam = Adam(learning_rate=0.001)\n",
        "    model.compile(loss='categorical_crossentropy', optimizer='adam', metrics=['accuracy'])\n",
        "    return model\n",
        "\n",
        "model = create_model()\n",
        "\n"
      ],
      "metadata": {
        "id": "a7iOnvL2L0KZ"
      },
      "execution_count": 5,
      "outputs": []
    },
    {
      "cell_type": "markdown",
      "source": [
        "The first line is the number of unique diseases"
      ],
      "metadata": {
        "id": "jyvaIBj6_lro"
      }
    },
    {
      "cell_type": "code",
      "source": [
        "print(np.unique(y).shape)\n",
        "print(y.shape)"
      ],
      "metadata": {
        "colab": {
          "base_uri": "https://localhost:8080/"
        },
        "id": "N0TL35bdTe2X",
        "outputId": "c553e506-a4c5-4fab-a68f-c63576353806"
      },
      "execution_count": null,
      "outputs": [
        {
          "output_type": "stream",
          "name": "stdout",
          "text": [
            "(41,)\n",
            "(4961,)\n"
          ]
        }
      ]
    },
    {
      "cell_type": "markdown",
      "source": [
        "### Train model"
      ],
      "metadata": {
        "id": "CoSArNMjGIe7"
      }
    },
    {
      "cell_type": "code",
      "source": [
        "# fit the model to the training data\n",
        "history=model.fit(X_train, Y_train, validation_data=(X_test, Y_test),epochs=156, batch_size=32)"
      ],
      "metadata": {
        "colab": {
          "base_uri": "https://localhost:8080/"
        },
        "id": "XUYdRUANL-hS",
        "outputId": "ca05db83-402e-4af3-b1ed-facb0578fec0"
      },
      "execution_count": 6,
      "outputs": [
        {
          "output_type": "stream",
          "name": "stdout",
          "text": [
            "Epoch 1/156\n",
            "124/124 [==============================] - 1s 4ms/step - loss: 3.3382 - accuracy: 0.3556 - val_loss: 2.7362 - val_accuracy: 0.9134\n",
            "Epoch 2/156\n",
            "124/124 [==============================] - 0s 2ms/step - loss: 2.3549 - accuracy: 0.6759 - val_loss: 1.7287 - val_accuracy: 0.9950\n",
            "Epoch 3/156\n",
            "124/124 [==============================] - 0s 2ms/step - loss: 1.7443 - accuracy: 0.8057 - val_loss: 1.1639 - val_accuracy: 1.0000\n",
            "Epoch 4/156\n",
            "124/124 [==============================] - 0s 2ms/step - loss: 1.4064 - accuracy: 0.8717 - val_loss: 0.8904 - val_accuracy: 1.0000\n",
            "Epoch 5/156\n",
            "124/124 [==============================] - 0s 2ms/step - loss: 1.2539 - accuracy: 0.8800 - val_loss: 0.7502 - val_accuracy: 1.0000\n",
            "Epoch 6/156\n",
            "124/124 [==============================] - 0s 2ms/step - loss: 1.1264 - accuracy: 0.8947 - val_loss: 0.6623 - val_accuracy: 1.0000\n",
            "Epoch 7/156\n",
            "124/124 [==============================] - 0s 2ms/step - loss: 1.0609 - accuracy: 0.8997 - val_loss: 0.6012 - val_accuracy: 1.0000\n",
            "Epoch 8/156\n",
            "124/124 [==============================] - 0s 2ms/step - loss: 0.9950 - accuracy: 0.9042 - val_loss: 0.5556 - val_accuracy: 1.0000\n",
            "Epoch 9/156\n",
            "124/124 [==============================] - 0s 2ms/step - loss: 0.9388 - accuracy: 0.9093 - val_loss: 0.5181 - val_accuracy: 1.0000\n",
            "Epoch 10/156\n",
            "124/124 [==============================] - 0s 2ms/step - loss: 0.8955 - accuracy: 0.9219 - val_loss: 0.4862 - val_accuracy: 1.0000\n",
            "Epoch 11/156\n",
            "124/124 [==============================] - 0s 2ms/step - loss: 0.8748 - accuracy: 0.9103 - val_loss: 0.4575 - val_accuracy: 1.0000\n",
            "Epoch 12/156\n",
            "124/124 [==============================] - 0s 2ms/step - loss: 0.8399 - accuracy: 0.9173 - val_loss: 0.4351 - val_accuracy: 1.0000\n",
            "Epoch 13/156\n",
            "124/124 [==============================] - 0s 2ms/step - loss: 0.8192 - accuracy: 0.9131 - val_loss: 0.4174 - val_accuracy: 1.0000\n",
            "Epoch 14/156\n",
            "124/124 [==============================] - 0s 2ms/step - loss: 0.7770 - accuracy: 0.9224 - val_loss: 0.3973 - val_accuracy: 1.0000\n",
            "Epoch 15/156\n",
            "124/124 [==============================] - 0s 2ms/step - loss: 0.7473 - accuracy: 0.9236 - val_loss: 0.3830 - val_accuracy: 1.0000\n",
            "Epoch 16/156\n",
            "124/124 [==============================] - 0s 2ms/step - loss: 0.7114 - accuracy: 0.9337 - val_loss: 0.3664 - val_accuracy: 1.0000\n",
            "Epoch 17/156\n",
            "124/124 [==============================] - 0s 2ms/step - loss: 0.7120 - accuracy: 0.9257 - val_loss: 0.3559 - val_accuracy: 1.0000\n",
            "Epoch 18/156\n",
            "124/124 [==============================] - 0s 2ms/step - loss: 0.7005 - accuracy: 0.9224 - val_loss: 0.3435 - val_accuracy: 1.0000\n",
            "Epoch 19/156\n",
            "124/124 [==============================] - 0s 2ms/step - loss: 0.6866 - accuracy: 0.9221 - val_loss: 0.3316 - val_accuracy: 1.0000\n",
            "Epoch 20/156\n",
            "124/124 [==============================] - 0s 2ms/step - loss: 0.6651 - accuracy: 0.9340 - val_loss: 0.3237 - val_accuracy: 1.0000\n",
            "Epoch 21/156\n",
            "124/124 [==============================] - 0s 2ms/step - loss: 0.6544 - accuracy: 0.9304 - val_loss: 0.3146 - val_accuracy: 1.0000\n",
            "Epoch 22/156\n",
            "124/124 [==============================] - 0s 2ms/step - loss: 0.6365 - accuracy: 0.9345 - val_loss: 0.3054 - val_accuracy: 1.0000\n",
            "Epoch 23/156\n",
            "124/124 [==============================] - 0s 2ms/step - loss: 0.6261 - accuracy: 0.9279 - val_loss: 0.2983 - val_accuracy: 1.0000\n",
            "Epoch 24/156\n",
            "124/124 [==============================] - 0s 2ms/step - loss: 0.6140 - accuracy: 0.9335 - val_loss: 0.2908 - val_accuracy: 1.0000\n",
            "Epoch 25/156\n",
            "124/124 [==============================] - 0s 2ms/step - loss: 0.6070 - accuracy: 0.9325 - val_loss: 0.2842 - val_accuracy: 1.0000\n",
            "Epoch 26/156\n",
            "124/124 [==============================] - 0s 2ms/step - loss: 0.5972 - accuracy: 0.9274 - val_loss: 0.2770 - val_accuracy: 1.0000\n",
            "Epoch 27/156\n",
            "124/124 [==============================] - 0s 2ms/step - loss: 0.5726 - accuracy: 0.9403 - val_loss: 0.2708 - val_accuracy: 1.0000\n",
            "Epoch 28/156\n",
            "124/124 [==============================] - 0s 2ms/step - loss: 0.5774 - accuracy: 0.9355 - val_loss: 0.2655 - val_accuracy: 1.0000\n",
            "Epoch 29/156\n",
            "124/124 [==============================] - 0s 2ms/step - loss: 0.5537 - accuracy: 0.9403 - val_loss: 0.2573 - val_accuracy: 1.0000\n",
            "Epoch 30/156\n",
            "124/124 [==============================] - 0s 2ms/step - loss: 0.5596 - accuracy: 0.9352 - val_loss: 0.2530 - val_accuracy: 1.0000\n",
            "Epoch 31/156\n",
            "124/124 [==============================] - 0s 2ms/step - loss: 0.5516 - accuracy: 0.9360 - val_loss: 0.2497 - val_accuracy: 1.0000\n",
            "Epoch 32/156\n",
            "124/124 [==============================] - 0s 2ms/step - loss: 0.5275 - accuracy: 0.9408 - val_loss: 0.2429 - val_accuracy: 1.0000\n",
            "Epoch 33/156\n",
            "124/124 [==============================] - 0s 2ms/step - loss: 0.5393 - accuracy: 0.9362 - val_loss: 0.2414 - val_accuracy: 1.0000\n",
            "Epoch 34/156\n",
            "124/124 [==============================] - 0s 2ms/step - loss: 0.5096 - accuracy: 0.9458 - val_loss: 0.2358 - val_accuracy: 1.0000\n",
            "Epoch 35/156\n",
            "124/124 [==============================] - 0s 4ms/step - loss: 0.5076 - accuracy: 0.9415 - val_loss: 0.2283 - val_accuracy: 1.0000\n",
            "Epoch 36/156\n",
            "124/124 [==============================] - 0s 3ms/step - loss: 0.5073 - accuracy: 0.9410 - val_loss: 0.2257 - val_accuracy: 1.0000\n",
            "Epoch 37/156\n",
            "124/124 [==============================] - 0s 3ms/step - loss: 0.4982 - accuracy: 0.9425 - val_loss: 0.2222 - val_accuracy: 1.0000\n",
            "Epoch 38/156\n",
            "124/124 [==============================] - 0s 3ms/step - loss: 0.5021 - accuracy: 0.9438 - val_loss: 0.2187 - val_accuracy: 1.0000\n",
            "Epoch 39/156\n",
            "124/124 [==============================] - 0s 3ms/step - loss: 0.4874 - accuracy: 0.9372 - val_loss: 0.2156 - val_accuracy: 1.0000\n",
            "Epoch 40/156\n",
            "124/124 [==============================] - 0s 3ms/step - loss: 0.4793 - accuracy: 0.9435 - val_loss: 0.2117 - val_accuracy: 1.0000\n",
            "Epoch 41/156\n",
            "124/124 [==============================] - 0s 3ms/step - loss: 0.4617 - accuracy: 0.9415 - val_loss: 0.2067 - val_accuracy: 1.0000\n",
            "Epoch 42/156\n",
            "124/124 [==============================] - 0s 3ms/step - loss: 0.4726 - accuracy: 0.9415 - val_loss: 0.2047 - val_accuracy: 1.0000\n",
            "Epoch 43/156\n",
            "124/124 [==============================] - 0s 3ms/step - loss: 0.4593 - accuracy: 0.9438 - val_loss: 0.2020 - val_accuracy: 1.0000\n",
            "Epoch 44/156\n",
            "124/124 [==============================] - 0s 2ms/step - loss: 0.4520 - accuracy: 0.9498 - val_loss: 0.2001 - val_accuracy: 1.0000\n",
            "Epoch 45/156\n",
            "124/124 [==============================] - 0s 2ms/step - loss: 0.4496 - accuracy: 0.9471 - val_loss: 0.1977 - val_accuracy: 1.0000\n",
            "Epoch 46/156\n",
            "124/124 [==============================] - 0s 2ms/step - loss: 0.4509 - accuracy: 0.9461 - val_loss: 0.1935 - val_accuracy: 1.0000\n",
            "Epoch 47/156\n",
            "124/124 [==============================] - 0s 2ms/step - loss: 0.4375 - accuracy: 0.9478 - val_loss: 0.1909 - val_accuracy: 1.0000\n",
            "Epoch 48/156\n",
            "124/124 [==============================] - 0s 2ms/step - loss: 0.4232 - accuracy: 0.9509 - val_loss: 0.1862 - val_accuracy: 1.0000\n",
            "Epoch 49/156\n",
            "124/124 [==============================] - 0s 2ms/step - loss: 0.4256 - accuracy: 0.9478 - val_loss: 0.1851 - val_accuracy: 1.0000\n",
            "Epoch 50/156\n",
            "124/124 [==============================] - 0s 2ms/step - loss: 0.4396 - accuracy: 0.9446 - val_loss: 0.1848 - val_accuracy: 1.0000\n",
            "Epoch 51/156\n",
            "124/124 [==============================] - 0s 2ms/step - loss: 0.4200 - accuracy: 0.9461 - val_loss: 0.1818 - val_accuracy: 1.0000\n",
            "Epoch 52/156\n",
            "124/124 [==============================] - 0s 2ms/step - loss: 0.4142 - accuracy: 0.9544 - val_loss: 0.1768 - val_accuracy: 1.0000\n",
            "Epoch 53/156\n",
            "124/124 [==============================] - 0s 2ms/step - loss: 0.4142 - accuracy: 0.9463 - val_loss: 0.1759 - val_accuracy: 1.0000\n",
            "Epoch 54/156\n",
            "124/124 [==============================] - 0s 2ms/step - loss: 0.4138 - accuracy: 0.9498 - val_loss: 0.1738 - val_accuracy: 1.0000\n",
            "Epoch 55/156\n",
            "124/124 [==============================] - 0s 2ms/step - loss: 0.4012 - accuracy: 0.9509 - val_loss: 0.1712 - val_accuracy: 1.0000\n",
            "Epoch 56/156\n",
            "124/124 [==============================] - 0s 2ms/step - loss: 0.3941 - accuracy: 0.9506 - val_loss: 0.1675 - val_accuracy: 1.0000\n",
            "Epoch 57/156\n",
            "124/124 [==============================] - 0s 2ms/step - loss: 0.3884 - accuracy: 0.9526 - val_loss: 0.1667 - val_accuracy: 1.0000\n",
            "Epoch 58/156\n",
            "124/124 [==============================] - 0s 2ms/step - loss: 0.3911 - accuracy: 0.9524 - val_loss: 0.1638 - val_accuracy: 1.0000\n",
            "Epoch 59/156\n",
            "124/124 [==============================] - 0s 2ms/step - loss: 0.3857 - accuracy: 0.9519 - val_loss: 0.1629 - val_accuracy: 1.0000\n",
            "Epoch 60/156\n",
            "124/124 [==============================] - 0s 2ms/step - loss: 0.3883 - accuracy: 0.9531 - val_loss: 0.1638 - val_accuracy: 1.0000\n",
            "Epoch 61/156\n",
            "124/124 [==============================] - 0s 2ms/step - loss: 0.3769 - accuracy: 0.9516 - val_loss: 0.1596 - val_accuracy: 1.0000\n",
            "Epoch 62/156\n",
            "124/124 [==============================] - 0s 2ms/step - loss: 0.3799 - accuracy: 0.9506 - val_loss: 0.1597 - val_accuracy: 1.0000\n",
            "Epoch 63/156\n",
            "124/124 [==============================] - 0s 2ms/step - loss: 0.3785 - accuracy: 0.9541 - val_loss: 0.1563 - val_accuracy: 1.0000\n",
            "Epoch 64/156\n",
            "124/124 [==============================] - 0s 2ms/step - loss: 0.3721 - accuracy: 0.9478 - val_loss: 0.1551 - val_accuracy: 1.0000\n",
            "Epoch 65/156\n",
            "124/124 [==============================] - 0s 2ms/step - loss: 0.3700 - accuracy: 0.9493 - val_loss: 0.1533 - val_accuracy: 1.0000\n",
            "Epoch 66/156\n",
            "124/124 [==============================] - 0s 2ms/step - loss: 0.3793 - accuracy: 0.9471 - val_loss: 0.1526 - val_accuracy: 1.0000\n",
            "Epoch 67/156\n",
            "124/124 [==============================] - 0s 2ms/step - loss: 0.3604 - accuracy: 0.9556 - val_loss: 0.1507 - val_accuracy: 1.0000\n",
            "Epoch 68/156\n",
            "124/124 [==============================] - 0s 2ms/step - loss: 0.3785 - accuracy: 0.9463 - val_loss: 0.1522 - val_accuracy: 1.0000\n",
            "Epoch 69/156\n",
            "124/124 [==============================] - 0s 2ms/step - loss: 0.3526 - accuracy: 0.9506 - val_loss: 0.1469 - val_accuracy: 1.0000\n",
            "Epoch 70/156\n",
            "124/124 [==============================] - 0s 2ms/step - loss: 0.3411 - accuracy: 0.9544 - val_loss: 0.1448 - val_accuracy: 1.0000\n",
            "Epoch 71/156\n",
            "124/124 [==============================] - 0s 2ms/step - loss: 0.3685 - accuracy: 0.9478 - val_loss: 0.1458 - val_accuracy: 1.0000\n",
            "Epoch 72/156\n",
            "124/124 [==============================] - 0s 2ms/step - loss: 0.3472 - accuracy: 0.9597 - val_loss: 0.1445 - val_accuracy: 1.0000\n",
            "Epoch 73/156\n",
            "124/124 [==============================] - 0s 2ms/step - loss: 0.3434 - accuracy: 0.9536 - val_loss: 0.1411 - val_accuracy: 1.0000\n",
            "Epoch 74/156\n",
            "124/124 [==============================] - 0s 2ms/step - loss: 0.3448 - accuracy: 0.9534 - val_loss: 0.1397 - val_accuracy: 1.0000\n",
            "Epoch 75/156\n",
            "124/124 [==============================] - 0s 2ms/step - loss: 0.3448 - accuracy: 0.9511 - val_loss: 0.1407 - val_accuracy: 1.0000\n",
            "Epoch 76/156\n",
            "124/124 [==============================] - 0s 2ms/step - loss: 0.3505 - accuracy: 0.9514 - val_loss: 0.1393 - val_accuracy: 1.0000\n",
            "Epoch 77/156\n",
            "124/124 [==============================] - 0s 3ms/step - loss: 0.3402 - accuracy: 0.9549 - val_loss: 0.1372 - val_accuracy: 1.0000\n",
            "Epoch 78/156\n",
            "124/124 [==============================] - 0s 2ms/step - loss: 0.3200 - accuracy: 0.9619 - val_loss: 0.1350 - val_accuracy: 1.0000\n",
            "Epoch 79/156\n",
            "124/124 [==============================] - 0s 2ms/step - loss: 0.3404 - accuracy: 0.9514 - val_loss: 0.1341 - val_accuracy: 1.0000\n",
            "Epoch 80/156\n",
            "124/124 [==============================] - 0s 3ms/step - loss: 0.3415 - accuracy: 0.9493 - val_loss: 0.1335 - val_accuracy: 1.0000\n",
            "Epoch 81/156\n",
            "124/124 [==============================] - 0s 3ms/step - loss: 0.3388 - accuracy: 0.9496 - val_loss: 0.1328 - val_accuracy: 1.0000\n",
            "Epoch 82/156\n",
            "124/124 [==============================] - 0s 3ms/step - loss: 0.3219 - accuracy: 0.9612 - val_loss: 0.1317 - val_accuracy: 1.0000\n",
            "Epoch 83/156\n",
            "124/124 [==============================] - 0s 3ms/step - loss: 0.3304 - accuracy: 0.9541 - val_loss: 0.1315 - val_accuracy: 1.0000\n",
            "Epoch 84/156\n",
            "124/124 [==============================] - 0s 3ms/step - loss: 0.3251 - accuracy: 0.9546 - val_loss: 0.1302 - val_accuracy: 1.0000\n",
            "Epoch 85/156\n",
            "124/124 [==============================] - 0s 3ms/step - loss: 0.3170 - accuracy: 0.9546 - val_loss: 0.1274 - val_accuracy: 1.0000\n",
            "Epoch 86/156\n",
            "124/124 [==============================] - 0s 3ms/step - loss: 0.3156 - accuracy: 0.9556 - val_loss: 0.1267 - val_accuracy: 1.0000\n",
            "Epoch 87/156\n",
            "124/124 [==============================] - 0s 3ms/step - loss: 0.3104 - accuracy: 0.9567 - val_loss: 0.1248 - val_accuracy: 1.0000\n",
            "Epoch 88/156\n",
            "124/124 [==============================] - 0s 4ms/step - loss: 0.3188 - accuracy: 0.9531 - val_loss: 0.1255 - val_accuracy: 1.0000\n",
            "Epoch 89/156\n",
            "124/124 [==============================] - 0s 3ms/step - loss: 0.3011 - accuracy: 0.9594 - val_loss: 0.1229 - val_accuracy: 1.0000\n",
            "Epoch 90/156\n",
            "124/124 [==============================] - 0s 2ms/step - loss: 0.3105 - accuracy: 0.9559 - val_loss: 0.1220 - val_accuracy: 1.0000\n",
            "Epoch 91/156\n",
            "124/124 [==============================] - 0s 2ms/step - loss: 0.3007 - accuracy: 0.9551 - val_loss: 0.1213 - val_accuracy: 1.0000\n",
            "Epoch 92/156\n",
            "124/124 [==============================] - 0s 2ms/step - loss: 0.3019 - accuracy: 0.9579 - val_loss: 0.1206 - val_accuracy: 1.0000\n",
            "Epoch 93/156\n",
            "124/124 [==============================] - 0s 2ms/step - loss: 0.3122 - accuracy: 0.9504 - val_loss: 0.1190 - val_accuracy: 1.0000\n",
            "Epoch 94/156\n",
            "124/124 [==============================] - 0s 2ms/step - loss: 0.3114 - accuracy: 0.9511 - val_loss: 0.1192 - val_accuracy: 1.0000\n",
            "Epoch 95/156\n",
            "124/124 [==============================] - 0s 2ms/step - loss: 0.3020 - accuracy: 0.9561 - val_loss: 0.1193 - val_accuracy: 1.0000\n",
            "Epoch 96/156\n",
            "124/124 [==============================] - 0s 2ms/step - loss: 0.2975 - accuracy: 0.9564 - val_loss: 0.1183 - val_accuracy: 1.0000\n",
            "Epoch 97/156\n",
            "124/124 [==============================] - 0s 2ms/step - loss: 0.3096 - accuracy: 0.9524 - val_loss: 0.1167 - val_accuracy: 1.0000\n",
            "Epoch 98/156\n",
            "124/124 [==============================] - 0s 2ms/step - loss: 0.3017 - accuracy: 0.9564 - val_loss: 0.1166 - val_accuracy: 1.0000\n",
            "Epoch 99/156\n",
            "124/124 [==============================] - 0s 2ms/step - loss: 0.3064 - accuracy: 0.9541 - val_loss: 0.1171 - val_accuracy: 1.0000\n",
            "Epoch 100/156\n",
            "124/124 [==============================] - 0s 2ms/step - loss: 0.2921 - accuracy: 0.9592 - val_loss: 0.1153 - val_accuracy: 1.0000\n",
            "Epoch 101/156\n",
            "124/124 [==============================] - 0s 2ms/step - loss: 0.2949 - accuracy: 0.9531 - val_loss: 0.1147 - val_accuracy: 1.0000\n",
            "Epoch 102/156\n",
            "124/124 [==============================] - 0s 2ms/step - loss: 0.2877 - accuracy: 0.9602 - val_loss: 0.1140 - val_accuracy: 1.0000\n",
            "Epoch 103/156\n",
            "124/124 [==============================] - 0s 2ms/step - loss: 0.2821 - accuracy: 0.9592 - val_loss: 0.1125 - val_accuracy: 1.0000\n",
            "Epoch 104/156\n",
            "124/124 [==============================] - 0s 2ms/step - loss: 0.2879 - accuracy: 0.9574 - val_loss: 0.1121 - val_accuracy: 1.0000\n",
            "Epoch 105/156\n",
            "124/124 [==============================] - 0s 2ms/step - loss: 0.2988 - accuracy: 0.9511 - val_loss: 0.1143 - val_accuracy: 1.0000\n",
            "Epoch 106/156\n",
            "124/124 [==============================] - 0s 2ms/step - loss: 0.2854 - accuracy: 0.9572 - val_loss: 0.1110 - val_accuracy: 1.0000\n",
            "Epoch 107/156\n",
            "124/124 [==============================] - 0s 2ms/step - loss: 0.2817 - accuracy: 0.9594 - val_loss: 0.1097 - val_accuracy: 1.0000\n",
            "Epoch 108/156\n",
            "124/124 [==============================] - 0s 2ms/step - loss: 0.2987 - accuracy: 0.9549 - val_loss: 0.1111 - val_accuracy: 1.0000\n",
            "Epoch 109/156\n",
            "124/124 [==============================] - 0s 2ms/step - loss: 0.2868 - accuracy: 0.9574 - val_loss: 0.1091 - val_accuracy: 1.0000\n",
            "Epoch 110/156\n",
            "124/124 [==============================] - 0s 2ms/step - loss: 0.2795 - accuracy: 0.9612 - val_loss: 0.1089 - val_accuracy: 1.0000\n",
            "Epoch 111/156\n",
            "124/124 [==============================] - 0s 2ms/step - loss: 0.2738 - accuracy: 0.9635 - val_loss: 0.1069 - val_accuracy: 1.0000\n",
            "Epoch 112/156\n",
            "124/124 [==============================] - 0s 2ms/step - loss: 0.2829 - accuracy: 0.9609 - val_loss: 0.1069 - val_accuracy: 1.0000\n",
            "Epoch 113/156\n",
            "124/124 [==============================] - 0s 2ms/step - loss: 0.2797 - accuracy: 0.9594 - val_loss: 0.1053 - val_accuracy: 1.0000\n",
            "Epoch 114/156\n",
            "124/124 [==============================] - 0s 2ms/step - loss: 0.2713 - accuracy: 0.9597 - val_loss: 0.1046 - val_accuracy: 1.0000\n",
            "Epoch 115/156\n",
            "124/124 [==============================] - 0s 2ms/step - loss: 0.2683 - accuracy: 0.9612 - val_loss: 0.1056 - val_accuracy: 1.0000\n",
            "Epoch 116/156\n",
            "124/124 [==============================] - 0s 2ms/step - loss: 0.2686 - accuracy: 0.9609 - val_loss: 0.1046 - val_accuracy: 1.0000\n",
            "Epoch 117/156\n",
            "124/124 [==============================] - 0s 2ms/step - loss: 0.2832 - accuracy: 0.9539 - val_loss: 0.1049 - val_accuracy: 1.0000\n",
            "Epoch 118/156\n",
            "124/124 [==============================] - 0s 2ms/step - loss: 0.2774 - accuracy: 0.9587 - val_loss: 0.1041 - val_accuracy: 1.0000\n",
            "Epoch 119/156\n",
            "124/124 [==============================] - 0s 2ms/step - loss: 0.2754 - accuracy: 0.9544 - val_loss: 0.1031 - val_accuracy: 1.0000\n",
            "Epoch 120/156\n",
            "124/124 [==============================] - 0s 2ms/step - loss: 0.2607 - accuracy: 0.9672 - val_loss: 0.1034 - val_accuracy: 1.0000\n",
            "Epoch 121/156\n",
            "124/124 [==============================] - 0s 2ms/step - loss: 0.2791 - accuracy: 0.9529 - val_loss: 0.1028 - val_accuracy: 1.0000\n",
            "Epoch 122/156\n",
            "124/124 [==============================] - 0s 2ms/step - loss: 0.2668 - accuracy: 0.9604 - val_loss: 0.1015 - val_accuracy: 1.0000\n",
            "Epoch 123/156\n",
            "124/124 [==============================] - 0s 2ms/step - loss: 0.2651 - accuracy: 0.9609 - val_loss: 0.0993 - val_accuracy: 1.0000\n",
            "Epoch 124/156\n",
            "124/124 [==============================] - 0s 2ms/step - loss: 0.2705 - accuracy: 0.9567 - val_loss: 0.1007 - val_accuracy: 1.0000\n",
            "Epoch 125/156\n",
            "124/124 [==============================] - 0s 3ms/step - loss: 0.2650 - accuracy: 0.9592 - val_loss: 0.0984 - val_accuracy: 1.0000\n",
            "Epoch 126/156\n",
            "124/124 [==============================] - 0s 3ms/step - loss: 0.2703 - accuracy: 0.9587 - val_loss: 0.0994 - val_accuracy: 1.0000\n",
            "Epoch 127/156\n",
            "124/124 [==============================] - 0s 3ms/step - loss: 0.2593 - accuracy: 0.9579 - val_loss: 0.0980 - val_accuracy: 1.0000\n",
            "Epoch 128/156\n",
            "124/124 [==============================] - 0s 3ms/step - loss: 0.2627 - accuracy: 0.9614 - val_loss: 0.0985 - val_accuracy: 1.0000\n",
            "Epoch 129/156\n",
            "124/124 [==============================] - 0s 3ms/step - loss: 0.2729 - accuracy: 0.9519 - val_loss: 0.0986 - val_accuracy: 1.0000\n",
            "Epoch 130/156\n",
            "124/124 [==============================] - 0s 3ms/step - loss: 0.2662 - accuracy: 0.9584 - val_loss: 0.0978 - val_accuracy: 1.0000\n",
            "Epoch 131/156\n",
            "124/124 [==============================] - 0s 3ms/step - loss: 0.2660 - accuracy: 0.9564 - val_loss: 0.0981 - val_accuracy: 1.0000\n",
            "Epoch 132/156\n",
            "124/124 [==============================] - 0s 3ms/step - loss: 0.2567 - accuracy: 0.9609 - val_loss: 0.0972 - val_accuracy: 1.0000\n",
            "Epoch 133/156\n",
            "124/124 [==============================] - 0s 3ms/step - loss: 0.2584 - accuracy: 0.9592 - val_loss: 0.0957 - val_accuracy: 1.0000\n",
            "Epoch 134/156\n",
            "124/124 [==============================] - 0s 4ms/step - loss: 0.2468 - accuracy: 0.9662 - val_loss: 0.0943 - val_accuracy: 1.0000\n",
            "Epoch 135/156\n",
            "124/124 [==============================] - 0s 2ms/step - loss: 0.2612 - accuracy: 0.9561 - val_loss: 0.0950 - val_accuracy: 1.0000\n",
            "Epoch 136/156\n",
            "124/124 [==============================] - 0s 2ms/step - loss: 0.2547 - accuracy: 0.9574 - val_loss: 0.0950 - val_accuracy: 1.0000\n",
            "Epoch 137/156\n",
            "124/124 [==============================] - 0s 2ms/step - loss: 0.2481 - accuracy: 0.9630 - val_loss: 0.0942 - val_accuracy: 1.0000\n",
            "Epoch 138/156\n",
            "124/124 [==============================] - 0s 2ms/step - loss: 0.2381 - accuracy: 0.9647 - val_loss: 0.0921 - val_accuracy: 1.0000\n",
            "Epoch 139/156\n",
            "124/124 [==============================] - 0s 2ms/step - loss: 0.2627 - accuracy: 0.9559 - val_loss: 0.0935 - val_accuracy: 1.0000\n",
            "Epoch 140/156\n",
            "124/124 [==============================] - 0s 2ms/step - loss: 0.2598 - accuracy: 0.9544 - val_loss: 0.0924 - val_accuracy: 1.0000\n",
            "Epoch 141/156\n",
            "124/124 [==============================] - 0s 2ms/step - loss: 0.2431 - accuracy: 0.9640 - val_loss: 0.0930 - val_accuracy: 1.0000\n",
            "Epoch 142/156\n",
            "124/124 [==============================] - 0s 2ms/step - loss: 0.2459 - accuracy: 0.9632 - val_loss: 0.0919 - val_accuracy: 1.0000\n",
            "Epoch 143/156\n",
            "124/124 [==============================] - 0s 2ms/step - loss: 0.2489 - accuracy: 0.9612 - val_loss: 0.0923 - val_accuracy: 1.0000\n",
            "Epoch 144/156\n",
            "124/124 [==============================] - 0s 4ms/step - loss: 0.2448 - accuracy: 0.9650 - val_loss: 0.0919 - val_accuracy: 1.0000\n",
            "Epoch 145/156\n",
            "124/124 [==============================] - 0s 2ms/step - loss: 0.2473 - accuracy: 0.9602 - val_loss: 0.0909 - val_accuracy: 1.0000\n",
            "Epoch 146/156\n",
            "124/124 [==============================] - 0s 4ms/step - loss: 0.2410 - accuracy: 0.9645 - val_loss: 0.0911 - val_accuracy: 1.0000\n",
            "Epoch 147/156\n",
            "124/124 [==============================] - 0s 2ms/step - loss: 0.2490 - accuracy: 0.9612 - val_loss: 0.0923 - val_accuracy: 1.0000\n",
            "Epoch 148/156\n",
            "124/124 [==============================] - 1s 4ms/step - loss: 0.2476 - accuracy: 0.9582 - val_loss: 0.0914 - val_accuracy: 1.0000\n",
            "Epoch 149/156\n",
            "124/124 [==============================] - 0s 2ms/step - loss: 0.2456 - accuracy: 0.9604 - val_loss: 0.0906 - val_accuracy: 1.0000\n",
            "Epoch 150/156\n",
            "124/124 [==============================] - 0s 2ms/step - loss: 0.2459 - accuracy: 0.9589 - val_loss: 0.0887 - val_accuracy: 1.0000\n",
            "Epoch 151/156\n",
            "124/124 [==============================] - 0s 2ms/step - loss: 0.2438 - accuracy: 0.9609 - val_loss: 0.0892 - val_accuracy: 1.0000\n",
            "Epoch 152/156\n",
            "124/124 [==============================] - 0s 2ms/step - loss: 0.2500 - accuracy: 0.9546 - val_loss: 0.0885 - val_accuracy: 1.0000\n",
            "Epoch 153/156\n",
            "124/124 [==============================] - 0s 2ms/step - loss: 0.2466 - accuracy: 0.9589 - val_loss: 0.0885 - val_accuracy: 1.0000\n",
            "Epoch 154/156\n",
            "124/124 [==============================] - 0s 2ms/step - loss: 0.2437 - accuracy: 0.9574 - val_loss: 0.0893 - val_accuracy: 1.0000\n",
            "Epoch 155/156\n",
            "124/124 [==============================] - 0s 2ms/step - loss: 0.2315 - accuracy: 0.9594 - val_loss: 0.0867 - val_accuracy: 1.0000\n",
            "Epoch 156/156\n",
            "124/124 [==============================] - 0s 2ms/step - loss: 0.2358 - accuracy: 0.9635 - val_loss: 0.0869 - val_accuracy: 1.0000\n"
          ]
        }
      ]
    },
    {
      "cell_type": "code",
      "source": [
        "import matplotlib.pyplot as plt\n",
        "%matplotlib inline\n",
        "# Model accuracy\n",
        "plt.plot(history.history['accuracy'])\n",
        "plt.plot(history.history['val_accuracy'])\n",
        "plt.title('Model Accuracy')\n",
        "plt.ylabel('accuracy')\n",
        "plt.xlabel('epoch')\n",
        "plt.legend(['Training accuracy', 'Validation accuracy'])\n",
        "plt.show()"
      ],
      "metadata": {
        "id": "WtcVvg27UVGQ",
        "outputId": "0a37c6ac-25ee-4c76-9917-128bbf8824b4",
        "colab": {
          "base_uri": "https://localhost:8080/",
          "height": 472
        }
      },
      "execution_count": 7,
      "outputs": [
        {
          "output_type": "display_data",
          "data": {
            "text/plain": [
              "<Figure size 640x480 with 1 Axes>"
            ],
            "image/png": "[encoded data removed]"
          },
          "metadata": {}
        }
      ]
    },
    {
      "cell_type": "code",
      "source": [
        "some_symptoms = \"0\t0\t0\t0 0 0\t0\t0\t0\t0\t0\t0\t0\t0\t0\t0\t0\t0\t0\t0\t0\t0\t0\t0\t0\t0\t0\t0\t0\t0\t0\t0\t0\t0\t0\t0\t0\t0\t1\t0\t0\t0\t0\t0\t0\t0\t0\t0\t0\t0\t0\t1\t0\t0\t0\t0\t0\t0\t0\t0\t0\t1\t0\t0\t0\t0\t0\t0\t0\t0\t0\t0\t0\t0\t0\t0\t0\t0\t0\t0\t0\t0\t0\t0\t0\t0\t0\t0\t0\t0\t0\t0\t0\t0\t0\t0\t0\t0\t0\t0\t0\t0\t0\t0\t0\t0\t0\t0\t0\t0\t0\t0\t0\t0\t0\t0\t0\t0\t0\t0\t0\t0\t0\t0\t0\t0\t0\t0\t0\t0\t0\t0\"\n",
        "some_list = some_symptoms.split()\n",
        "int_list = list(map(int,some_list))\n",
        "predict_array = np.array(int_list)\n",
        "predict_array = np.expand_dims(predict_array, axis=0)\n",
        "prediction = model.predict(predict_array)\n",
        "print(prediction.shape)\n",
        "predicted_class = np.argmax(prediction, axis=1)  # Get the class with the highest probability\n",
        "print(f\"Predicted class: {predicted_class[0]}\")\n",
        "print(f\"Probabilities: {prediction[0][12]}\")"
      ],
      "metadata": {
        "colab": {
          "base_uri": "https://localhost:8080/"
        },
        "id": "cIZv1Pxuza5F",
        "outputId": "6d2038bc-1fb3-4206-c7ca-8199cfb775dd"
      },
      "execution_count": 8,
      "outputs": [
        {
          "output_type": "stream",
          "name": "stdout",
          "text": [
            "1/1 [==============================] - 0s 76ms/step\n",
            "(1, 41)\n",
            "Predicted class: 12\n",
            "Probabilities: 0.896586537361145\n"
          ]
        }
      ]
    },
    {
      "cell_type": "code",
      "source": [
        "some_symptoms = \"1\t0\t0\t0\t0\t0\t0\t0\t0\t0\t0\t1\t0\t0\t1\t0\t0\t0\t0\t1\t0\t0\t0\t0\t0\t1\t0\t0\t0\t0\t0\t0\t1\t1\t0\t0\t0\t0\t0\t0\t0\t0\t0\t0\t0\t0\t0\t0\t0\t0\t0\t0\t0\t0\t0\t0\t0\t0\t0\t0\t0\t0\t0\t0\t0\t0\t0\t0\t0\t0\t0\t0\t0\t0\t0\t0\t0\t0\t0\t0\t0\t0\t0\t0\t0\t0\t0\t0\t0\t0\t0\t0\t0\t0\t0\t0\t0\t0\t0\t0\t0\t0\t0\t0\t0\t0\t0\t0\t0\t0\t0\t0\t0\t0\t0\t0\t0\t0\t0\t0\t0\t0\t0\t0\t0\t0\t0\t0\t0\t0\t0\t0\"\n",
        "some_list = some_symptoms.split()\n",
        "int_list = list(map(int,some_list))\n",
        "print(len(int_list))"
      ],
      "metadata": {
        "colab": {
          "base_uri": "https://localhost:8080/"
        },
        "id": "Wm0AjpAGJ8eu",
        "outputId": "e164758d-8b7e-45a7-cb6a-d9545938293e"
      },
      "execution_count": null,
      "outputs": [
        {
          "output_type": "stream",
          "name": "stdout",
          "text": [
            "132\n"
          ]
        }
      ]
    },
    {
      "cell_type": "code",
      "source": [
        "print(np.unique(y)[12])"
      ],
      "metadata": {
        "colab": {
          "base_uri": "https://localhost:8080/"
        },
        "id": "up48UGaN23uN",
        "outputId": "309b51b4-0802-47be-a0a1-d06b024b96bf"
      },
      "execution_count": null,
      "outputs": [
        {
          "output_type": "stream",
          "name": "stdout",
          "text": [
            "Dimorphic Hemmorhoids (piles)\n"
          ]
        }
      ]
    },
    {
      "cell_type": "code",
      "source": [
        "model.save(\"model.keras\")"
      ],
      "metadata": {
        "id": "ocVIvZe8-rL2"
      },
      "execution_count": 11,
      "outputs": []
    },
    {
      "cell_type": "markdown",
      "source": [
        "## Get all unique diseases and save them"
      ],
      "metadata": {
        "id": "Mi8OyaIsF7L5"
      }
    },
    {
      "cell_type": "code",
      "source": [
        "print(np.unique(y))"
      ],
      "metadata": {
        "id": "KBN7t0J2GdJY",
        "colab": {
          "base_uri": "https://localhost:8080/"
        },
        "outputId": "25b5c6a2-1b8e-4fc0-87d2-570149d90b07"
      },
      "execution_count": null,
      "outputs": [
        {
          "output_type": "stream",
          "name": "stdout",
          "text": [
            "['AIDS' 'Acne' 'Alcoholic Hepatitis' 'Allergy' 'Arthritis'\n",
            " 'Bronchial Asthma' 'Cervical Spondylosis' 'Chickenpox'\n",
            " 'Chronic Cholestasis' 'Common Cold' 'Dengue' 'Diabetes '\n",
            " 'Dimorphic Hemmorhoids (piles)' 'Drug Reaction' 'Fungal Infection' 'GERD'\n",
            " 'Gastroenteritis' 'Heart Attack' 'Hepatitis A' 'Hepatitis B'\n",
            " 'Hepatitis C' 'Hepatitis D' 'Hepatitis E' 'Hypertension '\n",
            " 'Hyperthyroidism' 'Hypoglycemia' 'Hypothyroidism' 'Impetigo' 'Jaundice'\n",
            " 'Malaria' 'Migraine' 'Osteoarthritis' 'Paralysis (brain hemorrhage)'\n",
            " 'Peptic Ulcer Disease' 'Pneumonia' 'Psoriasis' 'Tuberculosis' 'Typhoid'\n",
            " 'Urinary Tract Infection' 'Varicose Veins' 'Vertigo']\n"
          ]
        }
      ]
    },
    {
      "cell_type": "code",
      "source": [],
      "metadata": {
        "id": "EkE0eQZXe-8-"
      },
      "execution_count": null,
      "outputs": []
    },
    {
      "cell_type": "code",
      "source": [
        "with open(\"output.txt\", 'w') as f:\n",
        "  f.write('\\n'.join(np.unique(y)))\n",
        "\n",
        "print(\"Successfully saved strings to output.txt!\")"
      ],
      "metadata": {
        "colab": {
          "base_uri": "https://localhost:8080/"
        },
        "id": "UDvuu_18e0Jo",
        "outputId": "d5b9002a-f976-4308-d266-575da3f7a6fd"
      },
      "execution_count": null,
      "outputs": [
        {
          "output_type": "stream",
          "name": "stdout",
          "text": [
            "Successfully saved strings to output.txt!\n"
          ]
        }
      ]
    },
    {
      "cell_type": "code",
      "source": [
        "from google.colab import drive\n",
        "drive.mount('/content/drive')"
      ],
      "metadata": {
        "id": "k0mK6zEfiUfP"
      },
      "execution_count": null,
      "outputs": []
    },
    {
      "cell_type": "markdown",
      "source": [
        "### Convert model to tflite file"
      ],
      "metadata": {
        "id": "_DM6peKye6Mv"
      }
    },
    {
      "cell_type": "code",
      "source": [
        "import tensorflow as tf\n",
        "from tensorflow.keras.models import load_model\n"
      ],
      "metadata": {
        "id": "UBb7qtN0-q97"
      },
      "execution_count": 9,
      "outputs": []
    },
    {
      "cell_type": "code",
      "source": [
        "model_path = '/content/model.keras'  # Replace with your actual path\n"
      ],
      "metadata": {
        "id": "W8h6Ye5B-tTz"
      },
      "execution_count": 10,
      "outputs": []
    },
    {
      "cell_type": "code",
      "source": [
        "try:\n",
        "  model = load_model(model_path)\n",
        "  print(\"Model loaded successfully!\")\n",
        "except OSError as e:\n",
        "  print(f\"Error loading model: {e}\")\n"
      ],
      "metadata": {
        "colab": {
          "base_uri": "https://localhost:8080/"
        },
        "id": "S_LvOdnU-wHV",
        "outputId": "15f72e9c-f18c-441e-c5b0-f226fce3cf9b"
      },
      "execution_count": 12,
      "outputs": [
        {
          "output_type": "stream",
          "name": "stdout",
          "text": [
            "Model loaded successfully!\n"
          ]
        }
      ]
    },
    {
      "cell_type": "code",
      "source": [
        "converter = tf.lite.TFLiteConverter.from_keras_model(model)\n"
      ],
      "metadata": {
        "id": "66A5wMF1-yr8"
      },
      "execution_count": 13,
      "outputs": []
    },
    {
      "cell_type": "code",
      "source": [
        "tflite_model_file = 'converted_model.tflite'\n"
      ],
      "metadata": {
        "id": "WJ8iDMvg-0oM"
      },
      "execution_count": 14,
      "outputs": []
    },
    {
      "cell_type": "code",
      "source": [
        "try:\n",
        "  tflite_model = converter.convert()\n",
        "  with open(tflite_model_file, 'wb') as f:\n",
        "    f.write(tflite_model)\n",
        "  print(\"TFLite model saved successfully!\")\n",
        "except OSError as e:\n",
        "  print(f\"Error saving TFLite model: {e}\")\n"
      ],
      "metadata": {
        "colab": {
          "base_uri": "https://localhost:8080/"
        },
        "id": "KatR25hQ-2pN",
        "outputId": "1e68f669-5814-4ef9-f292-c7a5557927ad"
      },
      "execution_count": 15,
      "outputs": [
        {
          "output_type": "stream",
          "name": "stdout",
          "text": [
            "TFLite model saved successfully!\n"
          ]
        }
      ]
    }
  ]
}