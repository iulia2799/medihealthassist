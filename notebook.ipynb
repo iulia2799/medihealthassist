{
  "nbformat": 4,
  "nbformat_minor": 0,
  "metadata": {
    "colab": {
      "provenance": []
    },
    "kernelspec": {
      "name": "python3",
      "display_name": "Python 3"
    },
    "language_info": {
      "name": "python"
    }
  },
  "cells": [
    {
      "cell_type": "markdown",
      "source": [
        "# SymbiPredict Dataset\n"
      ],
      "metadata": {
        "id": "KP_uEczpF2H9"
      }
    },
    {
      "cell_type": "markdown",
      "source": [
        "### Attempt with a keras model\n",
        "Maybe i can deploy it to my firebase project"
      ],
      "metadata": {
        "id": "WG4QlQjGGOEK"
      }
    },
    {
      "cell_type": "code",
      "execution_count": null,
      "metadata": {
        "id": "qzu75zExFzeA"
      },
      "outputs": [],
      "source": [
        "import sys\n",
        "import pandas as pd\n",
        "import numpy as np\n",
        "import sklearn\n",
        "import matplotlib\n",
        "import keras\n",
        "import matplotlib.pyplot as plt\n",
        "\n",
        "\n",
        "df = pd.read_csv(\"/content/symbipredict_2022_corrected.csv\")\n",
        "X = np.array(df.iloc[:, :-1])\n",
        "y = np.array(df['prognosis'])"
      ]
    },
    {
      "cell_type": "code",
      "source": [
        "\n",
        "for col in df.columns:\n",
        "  print(f\"\\\"{col}\\\",\")"
      ],
      "metadata": {
        "colab": {
          "base_uri": "https://localhost:8080/"
        },
        "id": "hebv1C5mSiQR",
        "outputId": "64a30f7c-6dea-465b-cf3d-a84cf56c3f4c"
      },
      "execution_count": null,
      "outputs": [
        {
          "output_type": "stream",
          "name": "stdout",
          "text": [
            "\"itching\",\n",
            "\"skin_rash\",\n",
            "\"nodal_skin_eruptions\",\n",
            "\"continuous_sneezing\",\n",
            "\"shivering\",\n",
            "\"chills\",\n",
            "\"joint_pain\",\n",
            "\"stomach_pain\",\n",
            "\"acidity\",\n",
            "\"ulcers_on_tongue\",\n",
            "\"muscle_wasting\",\n",
            "\"vomiting\",\n",
            "\"burning_micturition\",\n",
            "\"spotting_urination\",\n",
            "\"fatigue\",\n",
            "\"weight_gain\",\n",
            "\"anxiety\",\n",
            "\"cold_hands_and_feets\",\n",
            "\"mood_swings\",\n",
            "\"weight_loss\",\n",
            "\"restlessness\",\n",
            "\"lethargy\",\n",
            "\"patches_in_throat\",\n",
            "\"irregular_sugar_level\",\n",
            "\"cough\",\n",
            "\"high_fever\",\n",
            "\"sunken_eyes\",\n",
            "\"breathlessness\",\n",
            "\"sweating\",\n",
            "\"dehydration\",\n",
            "\"indigestion\",\n",
            "\"headache\",\n",
            "\"yellowish_skin\",\n",
            "\"dark_urine\",\n",
            "\"nausea\",\n",
            "\"loss_of_appetite\",\n",
            "\"pain_behind_the_eyes\",\n",
            "\"back_pain\",\n",
            "\"constipation\",\n",
            "\"abdominal_pain\",\n",
            "\"diarrhoea\",\n",
            "\"mild_fever\",\n",
            "\"yellow_urine\",\n",
            "\"yellowing_of_eyes\",\n",
            "\"acute_liver_failure\",\n",
            "\"fluid_overload\",\n",
            "\"swelling_of_stomach\",\n",
            "\"swelled_lymph_nodes\",\n",
            "\"malaise\",\n",
            "\"blurred_and_distorted_vision\",\n",
            "\"phlegm\",\n",
            "\"throat_irritation\",\n",
            "\"redness_of_eyes\",\n",
            "\"sinus_pressure\",\n",
            "\"runny_nose\",\n",
            "\"congestion\",\n",
            "\"chest_pain\",\n",
            "\"weakness_in_limbs\",\n",
            "\"fast_heart_rate\",\n",
            "\"pain_during_bowel_movements\",\n",
            "\"pain_in_anal_region\",\n",
            "\"bloody_stool\",\n",
            "\"irritation_in_anus\",\n",
            "\"neck_pain\",\n",
            "\"dizziness\",\n",
            "\"cramps\",\n",
            "\"bruising\",\n",
            "\"obesity\",\n",
            "\"swollen_legs\",\n",
            "\"swollen_blood_vessels\",\n",
            "\"puffy_face_and_eyes\",\n",
            "\"enlarged_thyroid\",\n",
            "\"brittle_nails\",\n",
            "\"swollen_extremeties\",\n",
            "\"excessive_hunger\",\n",
            "\"extra_marital_contacts\",\n",
            "\"drying_and_tingling_lips\",\n",
            "\"slurred_speech\",\n",
            "\"knee_pain\",\n",
            "\"hip_joint_pain\",\n",
            "\"muscle_weakness\",\n",
            "\"stiff_neck\",\n",
            "\"swelling_joints\",\n",
            "\"movement_stiffness\",\n",
            "\"spinning_movements\",\n",
            "\"loss_of_balance\",\n",
            "\"unsteadiness\",\n",
            "\"weakness_of_one_body_side\",\n",
            "\"loss_of_smell\",\n",
            "\"bladder_discomfort\",\n",
            "\"foul_smell_of_urine\",\n",
            "\"continuous_feel_of_urine\",\n",
            "\"passage_of_gases\",\n",
            "\"internal_itching\",\n",
            "\"toxic_look_(typhos)\",\n",
            "\"depression\",\n",
            "\"irritability\",\n",
            "\"muscle_pain\",\n",
            "\"altered_sensorium\",\n",
            "\"red_spots_over_body\",\n",
            "\"belly_pain\",\n",
            "\"abnormal_menstruation\",\n",
            "\"dischromic_patches\",\n",
            "\"watering_from_eyes\",\n",
            "\"increased_appetite\",\n",
            "\"polyuria\",\n",
            "\"family_history\",\n",
            "\"mucoid_sputum\",\n",
            "\"rusty_sputum\",\n",
            "\"lack_of_concentration\",\n",
            "\"visual_disturbances\",\n",
            "\"receiving_blood_transfusion\",\n",
            "\"receiving_unsterile_injections\",\n",
            "\"coma\",\n",
            "\"stomach_bleeding\",\n",
            "\"distention_of_abdomen\",\n",
            "\"history_of_alcohol_consumption\",\n",
            "\"fluid_overload.1\",\n",
            "\"blood_in_sputum\",\n",
            "\"prominent_veins_on_calf\",\n",
            "\"palpitations\",\n",
            "\"painful_walking\",\n",
            "\"pus_filled_pimples\",\n",
            "\"blackheads\",\n",
            "\"scurring\",\n",
            "\"skin_peeling\",\n",
            "\"silver_like_dusting\",\n",
            "\"small_dents_in_nails\",\n",
            "\"inflammatory_nails\",\n",
            "\"blister\",\n",
            "\"red_sore_around_nose\",\n",
            "\"yellow_crust_ooze\",\n",
            "\"prognosis\",\n"
          ]
        }
      ]
    },
    {
      "cell_type": "code",
      "source": [
        "from sklearn import model_selection\n",
        "\n",
        "X_train, X_test, y_train, y_test = model_selection.train_test_split(X, y, stratify=y, random_state=42, test_size = 0.2)"
      ],
      "metadata": {
        "id": "9gVMhLD5JgYY"
      },
      "execution_count": null,
      "outputs": []
    },
    {
      "cell_type": "markdown",
      "source": [
        "### But first, let's encode the targets (diseases)"
      ],
      "metadata": {
        "id": "FdXiXvLQLWYr"
      }
    },
    {
      "cell_type": "code",
      "source": [
        "from sklearn.preprocessing import LabelEncoder\n",
        "\n",
        "le = LabelEncoder()\n",
        "y_train_encoded = le.fit_transform(y_train)\n",
        "y_test_encoded = le.fit_transform(y_test)"
      ],
      "metadata": {
        "id": "K_z8aTW5LVy9"
      },
      "execution_count": null,
      "outputs": []
    },
    {
      "cell_type": "code",
      "source": [
        "# convert the data to categorical labels\n",
        "from tensorflow.keras.utils import to_categorical\n",
        "\n",
        "Y_train = to_categorical(y_train_encoded, num_classes=None)\n",
        "Y_test = to_categorical(y_test_encoded, num_classes=None)\n",
        "print (Y_train.shape)\n",
        "print (Y_train[:10])"
      ],
      "metadata": {
        "colab": {
          "base_uri": "https://localhost:8080/"
        },
        "id": "8LH6riwEKf7T",
        "outputId": "efe5ab30-206d-49cf-b3be-fe854108c69d"
      },
      "execution_count": null,
      "outputs": [
        {
          "output_type": "stream",
          "name": "stdout",
          "text": [
            "(3968, 41)\n",
            "[[0. 0. 0. 0. 0. 0. 0. 0. 0. 0. 0. 0. 0. 0. 0. 0. 0. 0. 0. 0. 0. 0. 0. 0.\n",
            "  0. 0. 0. 0. 0. 1. 0. 0. 0. 0. 0. 0. 0. 0. 0. 0. 0.]\n",
            " [0. 0. 0. 0. 0. 0. 0. 0. 0. 0. 0. 0. 0. 0. 0. 0. 0. 0. 0. 0. 0. 0. 0. 0.\n",
            "  0. 0. 1. 0. 0. 0. 0. 0. 0. 0. 0. 0. 0. 0. 0. 0. 0.]\n",
            " [0. 0. 0. 0. 0. 0. 0. 0. 0. 0. 0. 0. 0. 0. 0. 0. 0. 0. 0. 0. 0. 0. 0. 0.\n",
            "  0. 0. 0. 0. 1. 0. 0. 0. 0. 0. 0. 0. 0. 0. 0. 0. 0.]\n",
            " [0. 0. 0. 0. 0. 0. 0. 0. 0. 0. 0. 0. 0. 0. 0. 0. 0. 0. 0. 0. 0. 0. 0. 0.\n",
            "  0. 0. 0. 0. 0. 0. 0. 0. 1. 0. 0. 0. 0. 0. 0. 0. 0.]\n",
            " [0. 0. 0. 0. 0. 0. 0. 0. 0. 0. 1. 0. 0. 0. 0. 0. 0. 0. 0. 0. 0. 0. 0. 0.\n",
            "  0. 0. 0. 0. 0. 0. 0. 0. 0. 0. 0. 0. 0. 0. 0. 0. 0.]\n",
            " [0. 0. 0. 0. 0. 0. 0. 0. 0. 0. 0. 0. 0. 0. 0. 0. 0. 0. 0. 0. 0. 0. 0. 0.\n",
            "  0. 0. 0. 0. 0. 0. 0. 0. 1. 0. 0. 0. 0. 0. 0. 0. 0.]\n",
            " [0. 0. 0. 0. 0. 1. 0. 0. 0. 0. 0. 0. 0. 0. 0. 0. 0. 0. 0. 0. 0. 0. 0. 0.\n",
            "  0. 0. 0. 0. 0. 0. 0. 0. 0. 0. 0. 0. 0. 0. 0. 0. 0.]\n",
            " [0. 0. 0. 0. 0. 0. 0. 0. 0. 0. 0. 0. 0. 0. 0. 0. 0. 0. 0. 0. 0. 0. 0. 0.\n",
            "  0. 0. 0. 0. 0. 0. 0. 0. 0. 1. 0. 0. 0. 0. 0. 0. 0.]\n",
            " [0. 0. 0. 0. 0. 0. 0. 0. 0. 0. 0. 0. 0. 0. 0. 0. 0. 0. 1. 0. 0. 0. 0. 0.\n",
            "  0. 0. 0. 0. 0. 0. 0. 0. 0. 0. 0. 0. 0. 0. 0. 0. 0.]\n",
            " [0. 0. 0. 0. 0. 0. 0. 0. 0. 0. 0. 0. 0. 1. 0. 0. 0. 0. 0. 0. 0. 0. 0. 0.\n",
            "  0. 0. 0. 0. 0. 0. 0. 0. 0. 0. 0. 0. 0. 0. 0. 0. 0.]]\n"
          ]
        }
      ]
    },
    {
      "cell_type": "code",
      "source": [
        "print(X_train[0])"
      ],
      "metadata": {
        "colab": {
          "base_uri": "https://localhost:8080/"
        },
        "id": "5j51wVGULsL9",
        "outputId": "385dce3c-3edd-4736-a864-69c6b00ee44b"
      },
      "execution_count": null,
      "outputs": [
        {
          "output_type": "stream",
          "name": "stdout",
          "text": [
            "[0 0 0 0 0 1 0 0 0 0 0 1 0 0 0 0 0 0 0 0 0 0 0 0 0 1 0 0 1 0 0 1 0 0 1 0 0\n",
            " 0 0 0 1 0 0 0 0 0 0 0 0 0 0 0 0 0 0 0 0 0 0 0 0 0 0 0 0 0 0 0 0 0 0 0 0 0\n",
            " 0 0 0 0 0 0 0 0 0 0 0 0 0 0 0 0 0 0 0 0 0 0 0 1 0 0 0 0 0 0 0 0 0 0 0 0 0\n",
            " 0 0 0 0 0 0 0 0 0 0 0 0 0 0 0 0 0 0 0 0 0]\n"
          ]
        }
      ]
    },
    {
      "cell_type": "markdown",
      "source": [
        "### Create model"
      ],
      "metadata": {
        "id": "mG3lgy4BGZCy"
      }
    },
    {
      "cell_type": "code",
      "source": [
        "from keras.models import Sequential\n",
        "from keras.layers import Dense\n",
        "from keras.optimizers import Adam\n",
        "from keras.layers import Dropout\n",
        "from keras import regularizers\n",
        "\n",
        "# define a function to build the keras model\n",
        "def create_model():\n",
        "    # create model\n",
        "    model = Sequential()\n",
        "    model.add(Dense(32, kernel_initializer='normal', kernel_regularizer=regularizers.l2(0.01), activation='relu'))\n",
        "    model.add(Dropout(0.5))\n",
        "    model.add(Dense(41, activation='softmax'))\n",
        "\n",
        "    # compile model\n",
        "    adam = Adam(learning_rate=0.001)\n",
        "    model.compile(loss='categorical_crossentropy', optimizer='adam', metrics=['accuracy'])\n",
        "    return model\n",
        "\n",
        "model = create_model()\n",
        "\n"
      ],
      "metadata": {
        "id": "a7iOnvL2L0KZ"
      },
      "execution_count": null,
      "outputs": []
    },
    {
      "cell_type": "markdown",
      "source": [
        "The first line is the number of unique diseases"
      ],
      "metadata": {
        "id": "jyvaIBj6_lro"
      }
    },
    {
      "cell_type": "code",
      "source": [
        "print(np.unique(y).shape)\n",
        "print(y.shape)"
      ],
      "metadata": {
        "colab": {
          "base_uri": "https://localhost:8080/"
        },
        "id": "N0TL35bdTe2X",
        "outputId": "c553e506-a4c5-4fab-a68f-c63576353806"
      },
      "execution_count": null,
      "outputs": [
        {
          "output_type": "stream",
          "name": "stdout",
          "text": [
            "(41,)\n",
            "(4961,)\n"
          ]
        }
      ]
    },
    {
      "cell_type": "markdown",
      "source": [
        "### Train model"
      ],
      "metadata": {
        "id": "CoSArNMjGIe7"
      }
    },
    {
      "cell_type": "code",
      "source": [
        "# fit the model to the training data\n",
        "history=model.fit(X_train, Y_train, validation_data=(X_test, Y_test),epochs=100, batch_size=32)"
      ],
      "metadata": {
        "colab": {
          "base_uri": "https://localhost:8080/"
        },
        "id": "XUYdRUANL-hS",
        "outputId": "2fd0be28-20b5-40b9-c948-f01d3879ffb2"
      },
      "execution_count": null,
      "outputs": [
        {
          "output_type": "stream",
          "name": "stdout",
          "text": [
            "Epoch 1/100\n",
            "124/124 [==============================] - 1s 4ms/step - loss: 3.3860 - accuracy: 0.3498 - val_loss: 2.7983 - val_accuracy: 0.9547\n",
            "Epoch 2/100\n",
            "124/124 [==============================] - 0s 2ms/step - loss: 2.3713 - accuracy: 0.7240 - val_loss: 1.7076 - val_accuracy: 0.9930\n",
            "Epoch 3/100\n",
            "124/124 [==============================] - 0s 3ms/step - loss: 1.6962 - accuracy: 0.8299 - val_loss: 1.1318 - val_accuracy: 1.0000\n",
            "Epoch 4/100\n",
            "124/124 [==============================] - 0s 2ms/step - loss: 1.4168 - accuracy: 0.8584 - val_loss: 0.8765 - val_accuracy: 1.0000\n",
            "Epoch 5/100\n",
            "124/124 [==============================] - 0s 3ms/step - loss: 1.2350 - accuracy: 0.8765 - val_loss: 0.7422 - val_accuracy: 1.0000\n",
            "Epoch 6/100\n",
            "124/124 [==============================] - 0s 2ms/step - loss: 1.1277 - accuracy: 0.8916 - val_loss: 0.6620 - val_accuracy: 1.0000\n",
            "Epoch 7/100\n",
            "124/124 [==============================] - 0s 2ms/step - loss: 1.0448 - accuracy: 0.9047 - val_loss: 0.5977 - val_accuracy: 1.0000\n",
            "Epoch 8/100\n",
            "124/124 [==============================] - 0s 3ms/step - loss: 1.0022 - accuracy: 0.9032 - val_loss: 0.5541 - val_accuracy: 1.0000\n",
            "Epoch 9/100\n",
            "124/124 [==============================] - 0s 2ms/step - loss: 0.9505 - accuracy: 0.9042 - val_loss: 0.5161 - val_accuracy: 1.0000\n",
            "Epoch 10/100\n",
            "124/124 [==============================] - 0s 3ms/step - loss: 0.9161 - accuracy: 0.9108 - val_loss: 0.4863 - val_accuracy: 1.0000\n",
            "Epoch 11/100\n",
            "124/124 [==============================] - 0s 3ms/step - loss: 0.8549 - accuracy: 0.9158 - val_loss: 0.4591 - val_accuracy: 1.0000\n",
            "Epoch 12/100\n",
            "124/124 [==============================] - 0s 2ms/step - loss: 0.8348 - accuracy: 0.9176 - val_loss: 0.4343 - val_accuracy: 1.0000\n",
            "Epoch 13/100\n",
            "124/124 [==============================] - 0s 2ms/step - loss: 0.7958 - accuracy: 0.9194 - val_loss: 0.4163 - val_accuracy: 1.0000\n",
            "Epoch 14/100\n",
            "124/124 [==============================] - 0s 2ms/step - loss: 0.7699 - accuracy: 0.9274 - val_loss: 0.3981 - val_accuracy: 1.0000\n",
            "Epoch 15/100\n",
            "124/124 [==============================] - 0s 2ms/step - loss: 0.7599 - accuracy: 0.9171 - val_loss: 0.3823 - val_accuracy: 1.0000\n",
            "Epoch 16/100\n",
            "124/124 [==============================] - 0s 2ms/step - loss: 0.7355 - accuracy: 0.9252 - val_loss: 0.3685 - val_accuracy: 1.0000\n",
            "Epoch 17/100\n",
            "124/124 [==============================] - 0s 3ms/step - loss: 0.7269 - accuracy: 0.9234 - val_loss: 0.3575 - val_accuracy: 1.0000\n",
            "Epoch 18/100\n",
            "124/124 [==============================] - 0s 3ms/step - loss: 0.6897 - accuracy: 0.9294 - val_loss: 0.3437 - val_accuracy: 1.0000\n",
            "Epoch 19/100\n",
            "124/124 [==============================] - 0s 3ms/step - loss: 0.6868 - accuracy: 0.9234 - val_loss: 0.3335 - val_accuracy: 1.0000\n",
            "Epoch 20/100\n",
            "124/124 [==============================] - 0s 2ms/step - loss: 0.6564 - accuracy: 0.9337 - val_loss: 0.3223 - val_accuracy: 1.0000\n",
            "Epoch 21/100\n",
            "124/124 [==============================] - 0s 3ms/step - loss: 0.6585 - accuracy: 0.9272 - val_loss: 0.3162 - val_accuracy: 1.0000\n",
            "Epoch 22/100\n",
            "124/124 [==============================] - 0s 3ms/step - loss: 0.6274 - accuracy: 0.9342 - val_loss: 0.3070 - val_accuracy: 1.0000\n",
            "Epoch 23/100\n",
            "124/124 [==============================] - 0s 3ms/step - loss: 0.6312 - accuracy: 0.9292 - val_loss: 0.2974 - val_accuracy: 1.0000\n",
            "Epoch 24/100\n",
            "124/124 [==============================] - 1s 4ms/step - loss: 0.6009 - accuracy: 0.9385 - val_loss: 0.2894 - val_accuracy: 1.0000\n",
            "Epoch 25/100\n",
            "124/124 [==============================] - 0s 4ms/step - loss: 0.6008 - accuracy: 0.9355 - val_loss: 0.2849 - val_accuracy: 1.0000\n",
            "Epoch 26/100\n",
            "124/124 [==============================] - 0s 4ms/step - loss: 0.5927 - accuracy: 0.9347 - val_loss: 0.2763 - val_accuracy: 1.0000\n",
            "Epoch 27/100\n",
            "124/124 [==============================] - 0s 4ms/step - loss: 0.5798 - accuracy: 0.9335 - val_loss: 0.2716 - val_accuracy: 1.0000\n",
            "Epoch 28/100\n",
            "124/124 [==============================] - 1s 4ms/step - loss: 0.5792 - accuracy: 0.9362 - val_loss: 0.2658 - val_accuracy: 1.0000\n",
            "Epoch 29/100\n",
            "124/124 [==============================] - 1s 5ms/step - loss: 0.5724 - accuracy: 0.9309 - val_loss: 0.2590 - val_accuracy: 1.0000\n",
            "Epoch 30/100\n",
            "124/124 [==============================] - 0s 3ms/step - loss: 0.5581 - accuracy: 0.9378 - val_loss: 0.2551 - val_accuracy: 1.0000\n",
            "Epoch 31/100\n",
            "124/124 [==============================] - 0s 2ms/step - loss: 0.5339 - accuracy: 0.9410 - val_loss: 0.2476 - val_accuracy: 1.0000\n",
            "Epoch 32/100\n",
            "124/124 [==============================] - 0s 3ms/step - loss: 0.5411 - accuracy: 0.9342 - val_loss: 0.2420 - val_accuracy: 1.0000\n",
            "Epoch 33/100\n",
            "124/124 [==============================] - 0s 3ms/step - loss: 0.5287 - accuracy: 0.9380 - val_loss: 0.2395 - val_accuracy: 1.0000\n",
            "Epoch 34/100\n",
            "124/124 [==============================] - 0s 3ms/step - loss: 0.5077 - accuracy: 0.9441 - val_loss: 0.2335 - val_accuracy: 1.0000\n",
            "Epoch 35/100\n",
            "124/124 [==============================] - 0s 3ms/step - loss: 0.5081 - accuracy: 0.9405 - val_loss: 0.2299 - val_accuracy: 1.0000\n",
            "Epoch 36/100\n",
            "124/124 [==============================] - 0s 3ms/step - loss: 0.5068 - accuracy: 0.9425 - val_loss: 0.2279 - val_accuracy: 1.0000\n",
            "Epoch 37/100\n",
            "124/124 [==============================] - 0s 3ms/step - loss: 0.4938 - accuracy: 0.9425 - val_loss: 0.2222 - val_accuracy: 1.0000\n",
            "Epoch 38/100\n",
            "124/124 [==============================] - 0s 3ms/step - loss: 0.5008 - accuracy: 0.9383 - val_loss: 0.2190 - val_accuracy: 1.0000\n",
            "Epoch 39/100\n",
            "124/124 [==============================] - 0s 2ms/step - loss: 0.4799 - accuracy: 0.9395 - val_loss: 0.2140 - val_accuracy: 1.0000\n",
            "Epoch 40/100\n",
            "124/124 [==============================] - 0s 3ms/step - loss: 0.4718 - accuracy: 0.9435 - val_loss: 0.2102 - val_accuracy: 1.0000\n",
            "Epoch 41/100\n",
            "124/124 [==============================] - 0s 2ms/step - loss: 0.4586 - accuracy: 0.9506 - val_loss: 0.2068 - val_accuracy: 1.0000\n",
            "Epoch 42/100\n",
            "124/124 [==============================] - 0s 3ms/step - loss: 0.4533 - accuracy: 0.9501 - val_loss: 0.2064 - val_accuracy: 1.0000\n",
            "Epoch 43/100\n",
            "124/124 [==============================] - 0s 3ms/step - loss: 0.4688 - accuracy: 0.9400 - val_loss: 0.2018 - val_accuracy: 1.0000\n",
            "Epoch 44/100\n",
            "124/124 [==============================] - 0s 2ms/step - loss: 0.4467 - accuracy: 0.9491 - val_loss: 0.1977 - val_accuracy: 1.0000\n",
            "Epoch 45/100\n",
            "124/124 [==============================] - 0s 3ms/step - loss: 0.4470 - accuracy: 0.9478 - val_loss: 0.1972 - val_accuracy: 1.0000\n",
            "Epoch 46/100\n",
            "124/124 [==============================] - 0s 3ms/step - loss: 0.4525 - accuracy: 0.9415 - val_loss: 0.1956 - val_accuracy: 1.0000\n",
            "Epoch 47/100\n",
            "124/124 [==============================] - 0s 2ms/step - loss: 0.4504 - accuracy: 0.9418 - val_loss: 0.1917 - val_accuracy: 1.0000\n",
            "Epoch 48/100\n",
            "124/124 [==============================] - 0s 3ms/step - loss: 0.4303 - accuracy: 0.9496 - val_loss: 0.1892 - val_accuracy: 1.0000\n",
            "Epoch 49/100\n",
            "124/124 [==============================] - 0s 3ms/step - loss: 0.4386 - accuracy: 0.9441 - val_loss: 0.1872 - val_accuracy: 1.0000\n",
            "Epoch 50/100\n",
            "124/124 [==============================] - 0s 3ms/step - loss: 0.4158 - accuracy: 0.9501 - val_loss: 0.1821 - val_accuracy: 1.0000\n",
            "Epoch 51/100\n",
            "124/124 [==============================] - 0s 3ms/step - loss: 0.4247 - accuracy: 0.9453 - val_loss: 0.1813 - val_accuracy: 1.0000\n",
            "Epoch 52/100\n",
            "124/124 [==============================] - 0s 2ms/step - loss: 0.4200 - accuracy: 0.9466 - val_loss: 0.1799 - val_accuracy: 1.0000\n",
            "Epoch 53/100\n",
            "124/124 [==============================] - 0s 2ms/step - loss: 0.4145 - accuracy: 0.9451 - val_loss: 0.1753 - val_accuracy: 1.0000\n",
            "Epoch 54/100\n",
            "124/124 [==============================] - 0s 2ms/step - loss: 0.4047 - accuracy: 0.9486 - val_loss: 0.1743 - val_accuracy: 1.0000\n",
            "Epoch 55/100\n",
            "124/124 [==============================] - 0s 2ms/step - loss: 0.4086 - accuracy: 0.9511 - val_loss: 0.1731 - val_accuracy: 1.0000\n",
            "Epoch 56/100\n",
            "124/124 [==============================] - 0s 3ms/step - loss: 0.4090 - accuracy: 0.9496 - val_loss: 0.1720 - val_accuracy: 1.0000\n",
            "Epoch 57/100\n",
            "124/124 [==============================] - 0s 2ms/step - loss: 0.3912 - accuracy: 0.9493 - val_loss: 0.1672 - val_accuracy: 1.0000\n",
            "Epoch 58/100\n",
            "124/124 [==============================] - 0s 2ms/step - loss: 0.3920 - accuracy: 0.9504 - val_loss: 0.1663 - val_accuracy: 1.0000\n",
            "Epoch 59/100\n",
            "124/124 [==============================] - 0s 3ms/step - loss: 0.3838 - accuracy: 0.9531 - val_loss: 0.1632 - val_accuracy: 1.0000\n",
            "Epoch 60/100\n",
            "124/124 [==============================] - 0s 2ms/step - loss: 0.3887 - accuracy: 0.9488 - val_loss: 0.1621 - val_accuracy: 1.0000\n",
            "Epoch 61/100\n",
            "124/124 [==============================] - 0s 4ms/step - loss: 0.3829 - accuracy: 0.9519 - val_loss: 0.1619 - val_accuracy: 1.0000\n",
            "Epoch 62/100\n",
            "124/124 [==============================] - 1s 5ms/step - loss: 0.3825 - accuracy: 0.9526 - val_loss: 0.1599 - val_accuracy: 1.0000\n",
            "Epoch 63/100\n",
            "124/124 [==============================] - 0s 3ms/step - loss: 0.3637 - accuracy: 0.9546 - val_loss: 0.1571 - val_accuracy: 1.0000\n",
            "Epoch 64/100\n",
            "124/124 [==============================] - 1s 4ms/step - loss: 0.3896 - accuracy: 0.9405 - val_loss: 0.1564 - val_accuracy: 1.0000\n",
            "Epoch 65/100\n",
            "124/124 [==============================] - 1s 4ms/step - loss: 0.3787 - accuracy: 0.9481 - val_loss: 0.1545 - val_accuracy: 1.0000\n",
            "Epoch 66/100\n",
            "124/124 [==============================] - 1s 5ms/step - loss: 0.3658 - accuracy: 0.9574 - val_loss: 0.1531 - val_accuracy: 1.0000\n",
            "Epoch 67/100\n",
            "124/124 [==============================] - 1s 4ms/step - loss: 0.3700 - accuracy: 0.9466 - val_loss: 0.1513 - val_accuracy: 1.0000\n",
            "Epoch 68/100\n",
            "124/124 [==============================] - 0s 2ms/step - loss: 0.3649 - accuracy: 0.9531 - val_loss: 0.1498 - val_accuracy: 1.0000\n",
            "Epoch 69/100\n",
            "124/124 [==============================] - 0s 3ms/step - loss: 0.3639 - accuracy: 0.9486 - val_loss: 0.1469 - val_accuracy: 1.0000\n",
            "Epoch 70/100\n",
            "124/124 [==============================] - 0s 2ms/step - loss: 0.3542 - accuracy: 0.9531 - val_loss: 0.1464 - val_accuracy: 1.0000\n",
            "Epoch 71/100\n",
            "124/124 [==============================] - 0s 2ms/step - loss: 0.3504 - accuracy: 0.9567 - val_loss: 0.1456 - val_accuracy: 1.0000\n",
            "Epoch 72/100\n",
            "124/124 [==============================] - 0s 3ms/step - loss: 0.3622 - accuracy: 0.9498 - val_loss: 0.1432 - val_accuracy: 1.0000\n",
            "Epoch 73/100\n",
            "124/124 [==============================] - 0s 3ms/step - loss: 0.3457 - accuracy: 0.9521 - val_loss: 0.1413 - val_accuracy: 1.0000\n",
            "Epoch 74/100\n",
            "124/124 [==============================] - 0s 3ms/step - loss: 0.3427 - accuracy: 0.9521 - val_loss: 0.1400 - val_accuracy: 1.0000\n",
            "Epoch 75/100\n",
            "124/124 [==============================] - 0s 2ms/step - loss: 0.3454 - accuracy: 0.9511 - val_loss: 0.1411 - val_accuracy: 1.0000\n",
            "Epoch 76/100\n",
            "124/124 [==============================] - 0s 2ms/step - loss: 0.3442 - accuracy: 0.9521 - val_loss: 0.1385 - val_accuracy: 1.0000\n",
            "Epoch 77/100\n",
            "124/124 [==============================] - 0s 2ms/step - loss: 0.3417 - accuracy: 0.9514 - val_loss: 0.1372 - val_accuracy: 1.0000\n",
            "Epoch 78/100\n",
            "124/124 [==============================] - 0s 3ms/step - loss: 0.3421 - accuracy: 0.9536 - val_loss: 0.1359 - val_accuracy: 1.0000\n",
            "Epoch 79/100\n",
            "124/124 [==============================] - 0s 2ms/step - loss: 0.3380 - accuracy: 0.9511 - val_loss: 0.1344 - val_accuracy: 1.0000\n",
            "Epoch 80/100\n",
            "124/124 [==============================] - 0s 2ms/step - loss: 0.3347 - accuracy: 0.9483 - val_loss: 0.1332 - val_accuracy: 1.0000\n",
            "Epoch 81/100\n",
            "124/124 [==============================] - 0s 3ms/step - loss: 0.3286 - accuracy: 0.9544 - val_loss: 0.1329 - val_accuracy: 1.0000\n",
            "Epoch 82/100\n",
            "124/124 [==============================] - 0s 2ms/step - loss: 0.3381 - accuracy: 0.9478 - val_loss: 0.1342 - val_accuracy: 1.0000\n",
            "Epoch 83/100\n",
            "124/124 [==============================] - 0s 3ms/step - loss: 0.3159 - accuracy: 0.9584 - val_loss: 0.1305 - val_accuracy: 1.0000\n",
            "Epoch 84/100\n",
            "124/124 [==============================] - 0s 3ms/step - loss: 0.3321 - accuracy: 0.9493 - val_loss: 0.1298 - val_accuracy: 1.0000\n",
            "Epoch 85/100\n",
            "124/124 [==============================] - 0s 3ms/step - loss: 0.3169 - accuracy: 0.9534 - val_loss: 0.1282 - val_accuracy: 1.0000\n",
            "Epoch 86/100\n",
            "124/124 [==============================] - 0s 2ms/step - loss: 0.3219 - accuracy: 0.9554 - val_loss: 0.1288 - val_accuracy: 1.0000\n",
            "Epoch 87/100\n",
            "124/124 [==============================] - 0s 3ms/step - loss: 0.3318 - accuracy: 0.9476 - val_loss: 0.1278 - val_accuracy: 1.0000\n",
            "Epoch 88/100\n",
            "124/124 [==============================] - 0s 2ms/step - loss: 0.3140 - accuracy: 0.9574 - val_loss: 0.1263 - val_accuracy: 1.0000\n",
            "Epoch 89/100\n",
            "124/124 [==============================] - 0s 2ms/step - loss: 0.3108 - accuracy: 0.9567 - val_loss: 0.1248 - val_accuracy: 1.0000\n",
            "Epoch 90/100\n",
            "124/124 [==============================] - 0s 2ms/step - loss: 0.3294 - accuracy: 0.9516 - val_loss: 0.1253 - val_accuracy: 1.0000\n",
            "Epoch 91/100\n",
            "124/124 [==============================] - 0s 3ms/step - loss: 0.3233 - accuracy: 0.9554 - val_loss: 0.1257 - val_accuracy: 1.0000\n",
            "Epoch 92/100\n",
            "124/124 [==============================] - 0s 3ms/step - loss: 0.2961 - accuracy: 0.9640 - val_loss: 0.1216 - val_accuracy: 1.0000\n",
            "Epoch 93/100\n",
            "124/124 [==============================] - 0s 2ms/step - loss: 0.3083 - accuracy: 0.9564 - val_loss: 0.1214 - val_accuracy: 1.0000\n",
            "Epoch 94/100\n",
            "124/124 [==============================] - 0s 3ms/step - loss: 0.3054 - accuracy: 0.9584 - val_loss: 0.1203 - val_accuracy: 1.0000\n",
            "Epoch 95/100\n",
            "124/124 [==============================] - 0s 3ms/step - loss: 0.2972 - accuracy: 0.9604 - val_loss: 0.1198 - val_accuracy: 1.0000\n",
            "Epoch 96/100\n",
            "124/124 [==============================] - 0s 3ms/step - loss: 0.3044 - accuracy: 0.9551 - val_loss: 0.1205 - val_accuracy: 1.0000\n",
            "Epoch 97/100\n",
            "124/124 [==============================] - 0s 3ms/step - loss: 0.3092 - accuracy: 0.9534 - val_loss: 0.1188 - val_accuracy: 1.0000\n",
            "Epoch 98/100\n",
            "124/124 [==============================] - 0s 3ms/step - loss: 0.3107 - accuracy: 0.9534 - val_loss: 0.1185 - val_accuracy: 1.0000\n",
            "Epoch 99/100\n",
            "124/124 [==============================] - 1s 5ms/step - loss: 0.2941 - accuracy: 0.9554 - val_loss: 0.1160 - val_accuracy: 1.0000\n",
            "Epoch 100/100\n",
            "124/124 [==============================] - 1s 4ms/step - loss: 0.2916 - accuracy: 0.9554 - val_loss: 0.1152 - val_accuracy: 1.0000\n"
          ]
        }
      ]
    },
    {
      "cell_type": "code",
      "source": [
        "import matplotlib.pyplot as plt\n",
        "%matplotlib inline\n",
        "# Model accuracy\n",
        "plt.plot(history.history['accuracy'])\n",
        "plt.plot(history.history['val_accuracy'])\n",
        "plt.title('Model Accuracy')\n",
        "plt.ylabel('accuracy')\n",
        "plt.xlabel('epoch')\n",
        "plt.legend(['Training accuracy', 'Validation accuracy'])\n",
        "plt.show()"
      ],
      "metadata": {
        "id": "WtcVvg27UVGQ",
        "outputId": "fc891289-a608-415e-fbc3-e0d2038521fc",
        "colab": {
          "base_uri": "https://localhost:8080/",
          "height": 472
        }
      },
      "execution_count": null,
      "outputs": [
        {
          "output_type": "display_data",
          "data": {
            "text/plain": [
              "<Figure size 640x480 with 1 Axes>"
            ],
            "image/png": "[encoded data removed]"
          },
          "metadata": {}
        }
      ]
    },
    {
      "cell_type": "code",
      "source": [
        "some_symptoms = \"0\t0\t0\t0 0 0\t0\t0\t0\t0\t0\t0\t0\t0\t0\t0\t0\t0\t0\t0\t0\t0\t0\t0\t0\t0\t0\t0\t0\t0\t0\t0\t0\t0\t0\t0\t0\t0\t1\t0\t0\t0\t0\t0\t0\t0\t0\t0\t0\t0\t0\t1\t0\t0\t0\t0\t0\t0\t0\t0\t0\t1\t0\t0\t0\t0\t0\t0\t0\t0\t0\t0\t0\t0\t0\t0\t0\t0\t0\t0\t0\t0\t0\t0\t0\t0\t0\t0\t0\t0\t0\t0\t0\t0\t0\t0\t0\t0\t0\t0\t0\t0\t0\t0\t0\t0\t0\t0\t0\t0\t0\t0\t0\t0\t0\t0\t0\t0\t0\t0\t0\t0\t0\t0\t0\t0\t0\t0\t0\t0\t0\t0\"\n",
        "some_list = some_symptoms.split()\n",
        "int_list = list(map(int,some_list))\n",
        "predict_array = np.array(int_list)\n",
        "predict_array = np.expand_dims(predict_array, axis=0)\n",
        "prediction = model.predict(predict_array)\n",
        "print(prediction.shape)\n",
        "predicted_class = np.argmax(prediction, axis=1)  # Get the class with the highest probability\n",
        "print(f\"Predicted class: {predicted_class[0]}\")\n",
        "print(f\"Probabilities: {prediction[0][12]}\")"
      ],
      "metadata": {
        "colab": {
          "base_uri": "https://localhost:8080/"
        },
        "id": "cIZv1Pxuza5F",
        "outputId": "a0072102-47ad-454d-ef9f-8ca1f7b48416"
      },
      "execution_count": null,
      "outputs": [
        {
          "output_type": "stream",
          "name": "stdout",
          "text": [
            "1/1 [==============================] - 0s 61ms/step\n",
            "(1, 41)\n",
            "Predicted class: 12\n",
            "Probabilities: 0.7355088591575623\n"
          ]
        }
      ]
    },
    {
      "cell_type": "code",
      "source": [
        "some_symptoms = \"1\t0\t0\t0\t0\t0\t0\t0\t0\t0\t0\t1\t0\t0\t1\t0\t0\t0\t0\t1\t0\t0\t0\t0\t0\t1\t0\t0\t0\t0\t0\t0\t1\t1\t0\t0\t0\t0\t0\t0\t0\t0\t0\t0\t0\t0\t0\t0\t0\t0\t0\t0\t0\t0\t0\t0\t0\t0\t0\t0\t0\t0\t0\t0\t0\t0\t0\t0\t0\t0\t0\t0\t0\t0\t0\t0\t0\t0\t0\t0\t0\t0\t0\t0\t0\t0\t0\t0\t0\t0\t0\t0\t0\t0\t0\t0\t0\t0\t0\t0\t0\t0\t0\t0\t0\t0\t0\t0\t0\t0\t0\t0\t0\t0\t0\t0\t0\t0\t0\t0\t0\t0\t0\t0\t0\t0\t0\t0\t0\t0\t0\t0\"\n",
        "some_list = some_symptoms.split()\n",
        "int_list = list(map(int,some_list))\n",
        "print(len(int_list))"
      ],
      "metadata": {
        "colab": {
          "base_uri": "https://localhost:8080/"
        },
        "id": "Wm0AjpAGJ8eu",
        "outputId": "e164758d-8b7e-45a7-cb6a-d9545938293e"
      },
      "execution_count": null,
      "outputs": [
        {
          "output_type": "stream",
          "name": "stdout",
          "text": [
            "132\n"
          ]
        }
      ]
    },
    {
      "cell_type": "code",
      "source": [
        "print(np.unique(y)[12])"
      ],
      "metadata": {
        "colab": {
          "base_uri": "https://localhost:8080/"
        },
        "id": "up48UGaN23uN",
        "outputId": "309b51b4-0802-47be-a0a1-d06b024b96bf"
      },
      "execution_count": null,
      "outputs": [
        {
          "output_type": "stream",
          "name": "stdout",
          "text": [
            "Dimorphic Hemmorhoids (piles)\n"
          ]
        }
      ]
    },
    {
      "cell_type": "code",
      "source": [
        "model.save(\"model.keras\")"
      ],
      "metadata": {
        "id": "ocVIvZe8-rL2"
      },
      "execution_count": null,
      "outputs": []
    },
    {
      "cell_type": "markdown",
      "source": [
        "## Get all unique diseases and save them"
      ],
      "metadata": {
        "id": "Mi8OyaIsF7L5"
      }
    },
    {
      "cell_type": "code",
      "source": [
        "print(np.unique(y))"
      ],
      "metadata": {
        "id": "KBN7t0J2GdJY",
        "colab": {
          "base_uri": "https://localhost:8080/"
        },
        "outputId": "25b5c6a2-1b8e-4fc0-87d2-570149d90b07"
      },
      "execution_count": null,
      "outputs": [
        {
          "output_type": "stream",
          "name": "stdout",
          "text": [
            "['AIDS' 'Acne' 'Alcoholic Hepatitis' 'Allergy' 'Arthritis'\n",
            " 'Bronchial Asthma' 'Cervical Spondylosis' 'Chickenpox'\n",
            " 'Chronic Cholestasis' 'Common Cold' 'Dengue' 'Diabetes '\n",
            " 'Dimorphic Hemmorhoids (piles)' 'Drug Reaction' 'Fungal Infection' 'GERD'\n",
            " 'Gastroenteritis' 'Heart Attack' 'Hepatitis A' 'Hepatitis B'\n",
            " 'Hepatitis C' 'Hepatitis D' 'Hepatitis E' 'Hypertension '\n",
            " 'Hyperthyroidism' 'Hypoglycemia' 'Hypothyroidism' 'Impetigo' 'Jaundice'\n",
            " 'Malaria' 'Migraine' 'Osteoarthritis' 'Paralysis (brain hemorrhage)'\n",
            " 'Peptic Ulcer Disease' 'Pneumonia' 'Psoriasis' 'Tuberculosis' 'Typhoid'\n",
            " 'Urinary Tract Infection' 'Varicose Veins' 'Vertigo']\n"
          ]
        }
      ]
    },
    {
      "cell_type": "code",
      "source": [],
      "metadata": {
        "id": "EkE0eQZXe-8-"
      },
      "execution_count": null,
      "outputs": []
    },
    {
      "cell_type": "code",
      "source": [
        "with open(\"output.txt\", 'w') as f:\n",
        "  f.write('\\n'.join(np.unique(y)))\n",
        "\n",
        "print(\"Successfully saved strings to output.txt!\")"
      ],
      "metadata": {
        "colab": {
          "base_uri": "https://localhost:8080/"
        },
        "id": "UDvuu_18e0Jo",
        "outputId": "90725cd0-afc1-41d7-c5d1-be0b4e6fa0e8"
      },
      "execution_count": null,
      "outputs": [
        {
          "output_type": "stream",
          "name": "stdout",
          "text": [
            "Successfully saved strings to output.txt!\n"
          ]
        }
      ]
    },
    {
      "cell_type": "code",
      "source": [
        "from google.colab import drive\n",
        "drive.mount('/content/drive')"
      ],
      "metadata": {
        "id": "k0mK6zEfiUfP"
      },
      "execution_count": null,
      "outputs": []
    },
    {
      "cell_type": "markdown",
      "source": [
        "### Convert model to tflite file"
      ],
      "metadata": {
        "id": "_DM6peKye6Mv"
      }
    },
    {
      "cell_type": "code",
      "source": [
        "import tensorflow as tf\n",
        "from tensorflow.keras.models import load_model\n"
      ],
      "metadata": {
        "id": "UBb7qtN0-q97"
      },
      "execution_count": null,
      "outputs": []
    },
    {
      "cell_type": "code",
      "source": [
        "model_path = '/content/model.keras'  # Replace with your actual path\n"
      ],
      "metadata": {
        "id": "W8h6Ye5B-tTz"
      },
      "execution_count": null,
      "outputs": []
    },
    {
      "cell_type": "code",
      "source": [
        "try:\n",
        "  model = load_model(model_path)\n",
        "  print(\"Model loaded successfully!\")\n",
        "except OSError as e:\n",
        "  print(f\"Error loading model: {e}\")\n"
      ],
      "metadata": {
        "colab": {
          "base_uri": "https://localhost:8080/"
        },
        "id": "S_LvOdnU-wHV",
        "outputId": "e8c1f540-8791-4a77-b530-fb122932b60a"
      },
      "execution_count": null,
      "outputs": [
        {
          "output_type": "stream",
          "name": "stdout",
          "text": [
            "Model loaded successfully!\n"
          ]
        }
      ]
    },
    {
      "cell_type": "code",
      "source": [
        "converter = tf.lite.TFLiteConverter.from_keras_model(model)\n"
      ],
      "metadata": {
        "id": "66A5wMF1-yr8"
      },
      "execution_count": null,
      "outputs": []
    },
    {
      "cell_type": "code",
      "source": [
        "tflite_model_file = 'converted_model.tflite'\n"
      ],
      "metadata": {
        "id": "WJ8iDMvg-0oM"
      },
      "execution_count": null,
      "outputs": []
    },
    {
      "cell_type": "code",
      "source": [
        "try:\n",
        "  tflite_model = converter.convert()\n",
        "  with open(tflite_model_file, 'wb') as f:\n",
        "    f.write(tflite_model)\n",
        "  print(\"TFLite model saved successfully!\")\n",
        "except OSError as e:\n",
        "  print(f\"Error saving TFLite model: {e}\")\n"
      ],
      "metadata": {
        "colab": {
          "base_uri": "https://localhost:8080/"
        },
        "id": "KatR25hQ-2pN",
        "outputId": "a907c243-0890-4102-8dd5-2c8722cd77e2"
      },
      "execution_count": null,
      "outputs": [
        {
          "output_type": "stream",
          "name": "stdout",
          "text": [
            "TFLite model saved successfully!\n"
          ]
        }
      ]
    }
  ]
}